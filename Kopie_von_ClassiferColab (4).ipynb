{
  "nbformat": 4,
  "nbformat_minor": 0,
  "metadata": {
    "colab": {
      "name": "Kopie von ClassiferColab.ipynb",
      "provenance": [],
      "collapsed_sections": []
    },
    "kernelspec": {
      "name": "python3",
      "display_name": "Python 3"
    },
    "language_info": {
      "name": "python"
    },
    "widgets": {
      "application/vnd.jupyter.widget-state+json": {
        "1fee86da919743409deb02602d934083": {
          "model_module": "@jupyter-widgets/controls",
          "model_name": "VBoxModel",
          "state": {
            "_view_name": "VBoxView",
            "_dom_classes": [],
            "_model_name": "VBoxModel",
            "_view_module": "@jupyter-widgets/controls",
            "_model_module_version": "1.5.0",
            "_view_count": null,
            "_view_module_version": "1.5.0",
            "box_style": "",
            "layout": "IPY_MODEL_475d7f16071c4b81bd4b07d7feb9f513",
            "_model_module": "@jupyter-widgets/controls",
            "children": [
              "IPY_MODEL_a4e1d8e899fd4e0d85f851c351de0421",
              "IPY_MODEL_f247136ce81e478e8862219fa7eaf2be",
              "IPY_MODEL_7535da4382f7428daf2c844895adbb67",
              "IPY_MODEL_227518b8127e4cffaf27d766724a3398"
            ]
          }
        },
        "475d7f16071c4b81bd4b07d7feb9f513": {
          "model_module": "@jupyter-widgets/base",
          "model_name": "LayoutModel",
          "state": {
            "_view_name": "LayoutView",
            "grid_template_rows": null,
            "right": null,
            "justify_content": null,
            "_view_module": "@jupyter-widgets/base",
            "overflow": null,
            "_model_module_version": "1.2.0",
            "_view_count": null,
            "flex_flow": null,
            "width": null,
            "min_width": null,
            "border": null,
            "align_items": null,
            "bottom": null,
            "_model_module": "@jupyter-widgets/base",
            "top": null,
            "grid_column": null,
            "overflow_y": null,
            "overflow_x": null,
            "grid_auto_flow": null,
            "grid_area": null,
            "grid_template_columns": null,
            "flex": null,
            "_model_name": "LayoutModel",
            "justify_items": null,
            "grid_row": null,
            "max_height": null,
            "align_content": null,
            "visibility": null,
            "align_self": null,
            "height": null,
            "min_height": null,
            "padding": null,
            "grid_auto_rows": null,
            "grid_gap": null,
            "max_width": null,
            "order": null,
            "_view_module_version": "1.2.0",
            "grid_template_areas": null,
            "object_position": null,
            "object_fit": null,
            "grid_auto_columns": null,
            "margin": null,
            "display": null,
            "left": null
          }
        },
        "a4e1d8e899fd4e0d85f851c351de0421": {
          "model_module": "@jupyter-widgets/controls",
          "model_name": "LabelModel",
          "state": {
            "_view_name": "LabelView",
            "style": "IPY_MODEL_280242da225b46b2b397d4067e5e2ca6",
            "_dom_classes": [],
            "description": "",
            "_model_name": "LabelModel",
            "placeholder": "​",
            "_view_module": "@jupyter-widgets/controls",
            "_model_module_version": "1.5.0",
            "value": "Select your Picture!",
            "_view_count": null,
            "_view_module_version": "1.5.0",
            "description_tooltip": null,
            "_model_module": "@jupyter-widgets/controls",
            "layout": "IPY_MODEL_78ace32f11b14f0c87818ef2c38b59e4"
          }
        },
        "f247136ce81e478e8862219fa7eaf2be": {
          "model_module": "@jupyter-widgets/controls",
          "model_name": "FileUploadModel",
          "state": {
            "_view_name": "FileUploadView",
            "_counter": 1,
            "style": "IPY_MODEL_0d62ee413437458a83ea42c4ac7db688",
            "_dom_classes": [],
            "description": "Upload",
            "multiple": false,
            "_model_name": "FileUploadModel",
            "data": [
              null
            ],
            "button_style": "",
            "_view_module": "@jupyter-widgets/controls",
            "_model_module_version": "1.5.0",
            "accept": "",
            "_view_count": null,
            "disabled": false,
            "_view_module_version": "1.5.0",
            "error": "",
            "description_tooltip": null,
            "metadata": [
              {
                "name": "56678587-5d363400-66c3-11e9-864b-61890b33e59e.jpg",
                "type": "image/jpeg",
                "size": 1999,
                "lastModified": 1618326065969
              }
            ],
            "_model_module": "@jupyter-widgets/controls",
            "layout": "IPY_MODEL_5fd1ac9b72ff4e5ab726d433c9b8f59b",
            "icon": "upload"
          }
        },
        "7535da4382f7428daf2c844895adbb67": {
          "model_module": "@jupyter-widgets/output",
          "model_name": "OutputModel",
          "state": {
            "_view_name": "OutputView",
            "msg_id": "",
            "_dom_classes": [],
            "_model_name": "OutputModel",
            "outputs": [
              {
                "output_type": "display_data",
                "metadata": {
                  "tags": []
                },
                "image/png": "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\n",
                "text/plain": "<PIL.Image.Image image mode=RGB size=64x64 at 0x7FFA7BAEF6D0>"
              }
            ],
            "_view_module": "@jupyter-widgets/output",
            "_model_module_version": "1.0.0",
            "_view_count": null,
            "_view_module_version": "1.0.0",
            "layout": "IPY_MODEL_7a710c9596004b43964a114d91e469f6",
            "_model_module": "@jupyter-widgets/output"
          }
        },
        "227518b8127e4cffaf27d766724a3398": {
          "model_module": "@jupyter-widgets/controls",
          "model_name": "LabelModel",
          "state": {
            "_view_name": "LabelView",
            "style": "IPY_MODEL_1026ae4fc0244bf8a7640214f5069873",
            "_dom_classes": [],
            "description": "",
            "_model_name": "LabelModel",
            "placeholder": "​",
            "_view_module": "@jupyter-widgets/controls",
            "_model_module_version": "1.5.0",
            "value": "Prediction: without_mask; Probability: 1.0000",
            "_view_count": null,
            "_view_module_version": "1.5.0",
            "description_tooltip": null,
            "_model_module": "@jupyter-widgets/controls",
            "layout": "IPY_MODEL_9985c4ca6c764dcaa35a8c7e53dc6333"
          }
        },
        "280242da225b46b2b397d4067e5e2ca6": {
          "model_module": "@jupyter-widgets/controls",
          "model_name": "DescriptionStyleModel",
          "state": {
            "_view_name": "StyleView",
            "_model_name": "DescriptionStyleModel",
            "description_width": "",
            "_view_module": "@jupyter-widgets/base",
            "_model_module_version": "1.5.0",
            "_view_count": null,
            "_view_module_version": "1.2.0",
            "_model_module": "@jupyter-widgets/controls"
          }
        },
        "78ace32f11b14f0c87818ef2c38b59e4": {
          "model_module": "@jupyter-widgets/base",
          "model_name": "LayoutModel",
          "state": {
            "_view_name": "LayoutView",
            "grid_template_rows": null,
            "right": null,
            "justify_content": null,
            "_view_module": "@jupyter-widgets/base",
            "overflow": null,
            "_model_module_version": "1.2.0",
            "_view_count": null,
            "flex_flow": null,
            "width": null,
            "min_width": null,
            "border": null,
            "align_items": null,
            "bottom": null,
            "_model_module": "@jupyter-widgets/base",
            "top": null,
            "grid_column": null,
            "overflow_y": null,
            "overflow_x": null,
            "grid_auto_flow": null,
            "grid_area": null,
            "grid_template_columns": null,
            "flex": null,
            "_model_name": "LayoutModel",
            "justify_items": null,
            "grid_row": null,
            "max_height": null,
            "align_content": null,
            "visibility": null,
            "align_self": null,
            "height": null,
            "min_height": null,
            "padding": null,
            "grid_auto_rows": null,
            "grid_gap": null,
            "max_width": null,
            "order": null,
            "_view_module_version": "1.2.0",
            "grid_template_areas": null,
            "object_position": null,
            "object_fit": null,
            "grid_auto_columns": null,
            "margin": null,
            "display": null,
            "left": null
          }
        },
        "0d62ee413437458a83ea42c4ac7db688": {
          "model_module": "@jupyter-widgets/controls",
          "model_name": "ButtonStyleModel",
          "state": {
            "_view_name": "StyleView",
            "_model_name": "ButtonStyleModel",
            "_view_module": "@jupyter-widgets/base",
            "_model_module_version": "1.5.0",
            "_view_count": null,
            "button_color": null,
            "font_weight": "",
            "_view_module_version": "1.2.0",
            "_model_module": "@jupyter-widgets/controls"
          }
        },
        "5fd1ac9b72ff4e5ab726d433c9b8f59b": {
          "model_module": "@jupyter-widgets/base",
          "model_name": "LayoutModel",
          "state": {
            "_view_name": "LayoutView",
            "grid_template_rows": null,
            "right": null,
            "justify_content": null,
            "_view_module": "@jupyter-widgets/base",
            "overflow": null,
            "_model_module_version": "1.2.0",
            "_view_count": null,
            "flex_flow": null,
            "width": null,
            "min_width": null,
            "border": null,
            "align_items": null,
            "bottom": null,
            "_model_module": "@jupyter-widgets/base",
            "top": null,
            "grid_column": null,
            "overflow_y": null,
            "overflow_x": null,
            "grid_auto_flow": null,
            "grid_area": null,
            "grid_template_columns": null,
            "flex": null,
            "_model_name": "LayoutModel",
            "justify_items": null,
            "grid_row": null,
            "max_height": null,
            "align_content": null,
            "visibility": null,
            "align_self": null,
            "height": null,
            "min_height": null,
            "padding": null,
            "grid_auto_rows": null,
            "grid_gap": null,
            "max_width": null,
            "order": null,
            "_view_module_version": "1.2.0",
            "grid_template_areas": null,
            "object_position": null,
            "object_fit": null,
            "grid_auto_columns": null,
            "margin": null,
            "display": null,
            "left": null
          }
        },
        "1026ae4fc0244bf8a7640214f5069873": {
          "model_module": "@jupyter-widgets/controls",
          "model_name": "DescriptionStyleModel",
          "state": {
            "_view_name": "StyleView",
            "_model_name": "DescriptionStyleModel",
            "description_width": "",
            "_view_module": "@jupyter-widgets/base",
            "_model_module_version": "1.5.0",
            "_view_count": null,
            "_view_module_version": "1.2.0",
            "_model_module": "@jupyter-widgets/controls"
          }
        },
        "9985c4ca6c764dcaa35a8c7e53dc6333": {
          "model_module": "@jupyter-widgets/base",
          "model_name": "LayoutModel",
          "state": {
            "_view_name": "LayoutView",
            "grid_template_rows": null,
            "right": null,
            "justify_content": null,
            "_view_module": "@jupyter-widgets/base",
            "overflow": null,
            "_model_module_version": "1.2.0",
            "_view_count": null,
            "flex_flow": null,
            "width": null,
            "min_width": null,
            "border": null,
            "align_items": null,
            "bottom": null,
            "_model_module": "@jupyter-widgets/base",
            "top": null,
            "grid_column": null,
            "overflow_y": null,
            "overflow_x": null,
            "grid_auto_flow": null,
            "grid_area": null,
            "grid_template_columns": null,
            "flex": null,
            "_model_name": "LayoutModel",
            "justify_items": null,
            "grid_row": null,
            "max_height": null,
            "align_content": null,
            "visibility": null,
            "align_self": null,
            "height": null,
            "min_height": null,
            "padding": null,
            "grid_auto_rows": null,
            "grid_gap": null,
            "max_width": null,
            "order": null,
            "_view_module_version": "1.2.0",
            "grid_template_areas": null,
            "object_position": null,
            "object_fit": null,
            "grid_auto_columns": null,
            "margin": null,
            "display": null,
            "left": null
          }
        },
        "7a710c9596004b43964a114d91e469f6": {
          "model_module": "@jupyter-widgets/base",
          "model_name": "LayoutModel",
          "state": {
            "_view_name": "LayoutView",
            "grid_template_rows": null,
            "right": null,
            "justify_content": null,
            "_view_module": "@jupyter-widgets/base",
            "overflow": null,
            "_model_module_version": "1.2.0",
            "_view_count": null,
            "flex_flow": null,
            "width": null,
            "min_width": null,
            "border": null,
            "align_items": null,
            "bottom": null,
            "_model_module": "@jupyter-widgets/base",
            "top": null,
            "grid_column": null,
            "overflow_y": null,
            "overflow_x": null,
            "grid_auto_flow": null,
            "grid_area": null,
            "grid_template_columns": null,
            "flex": null,
            "_model_name": "LayoutModel",
            "justify_items": null,
            "grid_row": null,
            "max_height": null,
            "align_content": null,
            "visibility": null,
            "align_self": null,
            "height": null,
            "min_height": null,
            "padding": null,
            "grid_auto_rows": null,
            "grid_gap": null,
            "max_width": null,
            "order": null,
            "_view_module_version": "1.2.0",
            "grid_template_areas": null,
            "object_position": null,
            "object_fit": null,
            "grid_auto_columns": null,
            "margin": null,
            "display": null,
            "left": null
          }
        }
      }
    },
    "accelerator": "GPU"
  },
  "cells": [
    {
      "cell_type": "code",
      "metadata": {
        "id": "NMHj6O7qJyk9"
      },
      "source": [
        "!pip install fastai --upgrade -q\n"
      ],
      "execution_count": null,
      "outputs": []
    },
    {
      "cell_type": "code",
      "metadata": {
        "id": "Amwjp1c3HVFN"
      },
      "source": [
        "from fastai.vision.all import *\n",
        "import requests\n",
        "from fastai.vision.widgets import *"
      ],
      "execution_count": 2,
      "outputs": []
    },
    {
      "cell_type": "code",
      "metadata": {
        "id": "TybSHaYUTNOj"
      },
      "source": [
        "path = Path()\n",
        "learn_inf= load_learner(path/'export.pkl', cpu=True)\n"
      ],
      "execution_count": null,
      "outputs": []
    },
    {
      "cell_type": "code",
      "metadata": {
        "id": "WHGBZW0aHTWk"
      },
      "source": [
        ""
      ],
      "execution_count": null,
      "outputs": []
    },
    {
      "cell_type": "markdown",
      "metadata": {
        "id": "WZ3_U16fLmol"
      },
      "source": [
        "# Mask Classification Website :\n",
        "  \n",
        "\n",
        "1.   Mask incorrect\n",
        "2.   With Mask\n",
        "3.   Without Mask\n",
        "\n",
        "\n",
        "\n"
      ]
    },
    {
      "cell_type": "code",
      "metadata": {
        "id": "Q7M4HQXicULZ"
      },
      "source": [
        "btn_upload = widgets.FileUpload()\n",
        "out_pl = widgets.Output()\n",
        "lbl_pred= widgets.Label()"
      ],
      "execution_count": 4,
      "outputs": []
    },
    {
      "cell_type": "code",
      "metadata": {
        "id": "8SVpP60Vc7oQ"
      },
      "source": [
        "def on_click_classify(change):\n",
        "  img= PILImage.create(btn_upload.data[-1])\n",
        "  out_pl.clear_output()\n",
        "  with out_pl: display(img.to_thumb(128,128))\n",
        "  pred,pred_idx,probs= learn_inf.predict(img)\n",
        "  lbl_pred.value= f'I think it is : {pred}; Probability: {probs[pred_idx]:.04f}'\n"
      ],
      "execution_count": 5,
      "outputs": []
    },
    {
      "cell_type": "code",
      "metadata": {
        "id": "lUDaNExqdIYJ"
      },
      "source": [
        "btn_upload.observe(on_click_classify, names=['data'])"
      ],
      "execution_count": 6,
      "outputs": []
    },
    {
      "cell_type": "code",
      "metadata": {
        "colab": {
          "base_uri": "https://localhost:8080/",
          "height": 177,
          "referenced_widgets": [
            "1fee86da919743409deb02602d934083",
            "475d7f16071c4b81bd4b07d7feb9f513",
            "a4e1d8e899fd4e0d85f851c351de0421",
            "f247136ce81e478e8862219fa7eaf2be",
            "7535da4382f7428daf2c844895adbb67",
            "227518b8127e4cffaf27d766724a3398",
            "280242da225b46b2b397d4067e5e2ca6",
            "78ace32f11b14f0c87818ef2c38b59e4",
            "0d62ee413437458a83ea42c4ac7db688",
            "5fd1ac9b72ff4e5ab726d433c9b8f59b",
            "1026ae4fc0244bf8a7640214f5069873",
            "9985c4ca6c764dcaa35a8c7e53dc6333",
            "7a710c9596004b43964a114d91e469f6"
          ]
        },
        "id": "TeC1_XWLdSB2",
        "outputId": "9c8f5ba3-881d-47b2-ff88-f6606c5e24e9"
      },
      "source": [
        "display(VBox([widgets.Label('Uplode your Picture!'), btn_upload, out_pl, lbl_pred]))"
      ],
      "execution_count": 9,
      "outputs": [
        {
          "output_type": "display_data",
          "data": {
            "application/vnd.jupyter.widget-view+json": {
              "model_id": "1fee86da919743409deb02602d934083",
              "version_minor": 0,
              "version_major": 2
            },
            "text/plain": [
              "VBox(children=(Label(value='Select your Picture!'), FileUpload(value={}, description='Upload'), Output(), Labe…"
            ]
          },
          "metadata": {
            "tags": []
          }
        },
        {
          "output_type": "display_data",
          "data": {
            "text/html": [
              ""
            ],
            "text/plain": [
              "<IPython.core.display.HTML object>"
            ]
          },
          "metadata": {
            "tags": []
          }
        }
      ]
    },
    {
      "cell_type": "code",
      "metadata": {
        "id": "r2bIDSLkdkm9"
      },
      "source": [
        ""
      ],
      "execution_count": null,
      "outputs": []
    }
  ]
}