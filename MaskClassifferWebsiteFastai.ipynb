{
  "nbformat": 4,
  "nbformat_minor": 0,
  "metadata": {
    "colab": {
      "name": "MaskClassifferWebsite.ipynb",
      "provenance": [],
      "collapsed_sections": []
    },
    "kernelspec": {
      "name": "python3",
      "display_name": "Python 3"
    },
    "language_info": {
      "name": "python"
    },
    "widgets": {
      "application/vnd.jupyter.widget-state+json": {
        "416be5e7912e4fcfb6f08381a029a365": {
          "model_module": "@jupyter-widgets/controls",
          "model_name": "VBoxModel",
          "model_module_version": "1.5.0",
          "state": {
            "_view_name": "VBoxView",
            "_dom_classes": [],
            "_model_name": "VBoxModel",
            "_view_module": "@jupyter-widgets/controls",
            "_model_module_version": "1.5.0",
            "_view_count": null,
            "_view_module_version": "1.5.0",
            "box_style": "",
            "layout": "IPY_MODEL_9bca95a414194af695336a5e6c04842d",
            "_model_module": "@jupyter-widgets/controls",
            "children": [
              "IPY_MODEL_a54e0ecec02443d4bd6b3a3f78f28352",
              "IPY_MODEL_3488d5a55a844de0b01e52eb2e814f11",
              "IPY_MODEL_db897611cc874de9977847fc0a8cebfc",
              "IPY_MODEL_29be65c2e0e64965b21ec217b81def58"
            ]
          }
        },
        "9bca95a414194af695336a5e6c04842d": {
          "model_module": "@jupyter-widgets/base",
          "model_name": "LayoutModel",
          "model_module_version": "1.2.0",
          "state": {
            "_view_name": "LayoutView",
            "grid_template_rows": null,
            "right": null,
            "justify_content": null,
            "_view_module": "@jupyter-widgets/base",
            "overflow": null,
            "_model_module_version": "1.2.0",
            "_view_count": null,
            "flex_flow": null,
            "width": null,
            "min_width": null,
            "border": null,
            "align_items": null,
            "bottom": null,
            "_model_module": "@jupyter-widgets/base",
            "top": null,
            "grid_column": null,
            "overflow_y": null,
            "overflow_x": null,
            "grid_auto_flow": null,
            "grid_area": null,
            "grid_template_columns": null,
            "flex": null,
            "_model_name": "LayoutModel",
            "justify_items": null,
            "grid_row": null,
            "max_height": null,
            "align_content": null,
            "visibility": null,
            "align_self": null,
            "height": null,
            "min_height": null,
            "padding": null,
            "grid_auto_rows": null,
            "grid_gap": null,
            "max_width": null,
            "order": null,
            "_view_module_version": "1.2.0",
            "grid_template_areas": null,
            "object_position": null,
            "object_fit": null,
            "grid_auto_columns": null,
            "margin": null,
            "display": null,
            "left": null
          }
        },
        "a54e0ecec02443d4bd6b3a3f78f28352": {
          "model_module": "@jupyter-widgets/controls",
          "model_name": "LabelModel",
          "model_module_version": "1.5.0",
          "state": {
            "_view_name": "LabelView",
            "style": "IPY_MODEL_388fb28d769a4b94a5bf3085cb5556a6",
            "_dom_classes": [],
            "description": "",
            "_model_name": "LabelModel",
            "placeholder": "​",
            "_view_module": "@jupyter-widgets/controls",
            "_model_module_version": "1.5.0",
            "value": "Uplode your Picture!",
            "_view_count": null,
            "_view_module_version": "1.5.0",
            "description_tooltip": null,
            "_model_module": "@jupyter-widgets/controls",
            "layout": "IPY_MODEL_44c3433b3a37496cb04996771ced2e64"
          }
        },
        "3488d5a55a844de0b01e52eb2e814f11": {
          "model_module": "@jupyter-widgets/controls",
          "model_name": "FileUploadModel",
          "model_module_version": "1.5.0",
          "state": {
            "_view_name": "FileUploadView",
            "_counter": 1,
            "style": "IPY_MODEL_a019fd3279ce4e03aa03fb076fb11668",
            "_dom_classes": [],
            "description": "Upload",
            "multiple": false,
            "_model_name": "FileUploadModel",
            "data": [
              null
            ],
            "button_style": "",
            "_view_module": "@jupyter-widgets/controls",
            "_model_module_version": "1.5.0",
            "accept": "",
            "_view_count": null,
            "disabled": false,
            "_view_module_version": "1.5.0",
            "error": "",
            "description_tooltip": null,
            "metadata": [
              {
                "name": "Withmask4.jpg",
                "type": "image/jpeg",
                "size": 142952,
                "lastModified": 1632957283471
              }
            ],
            "_model_module": "@jupyter-widgets/controls",
            "layout": "IPY_MODEL_3711a9b59214476f8e0a342e80a791b3",
            "icon": "upload"
          }
        },
        "db897611cc874de9977847fc0a8cebfc": {
          "model_module": "@jupyter-widgets/output",
          "model_name": "OutputModel",
          "model_module_version": "1.0.0",
          "state": {
            "_view_name": "OutputView",
            "msg_id": "",
            "_dom_classes": [],
            "_model_name": "OutputModel",
            "outputs": [
              {
                "output_type": "display_data",
                "data": {
                  "image/png": "iVBORw0KGgoAAAANSUhEUgAAAIAAAAB5CAIAAAB+wb5NAAB4AklEQVR4nDz9V69ua3bfB47whBnesNKOJ1Y4FVhVLFKiLIqibLXVdsNC22jAMNC3DV/0B+nrRn+JBjpcGmgbtmVZlqhAUSSLodKpOqdO2HHFN8z0hDFGX7ybBBawsdbdfuYzR/iP3/hP/L/9P/7vYBibLqXZalUVVWXmGBvfdFKTdw7ISyk+hgompUTvFK0uqenWc5qdC+xDHo7kQi5Lzalteu/Zx1Bqccy5GBG6EOclmdbGu5xTbLthfwTEJjYAhqhaay41disfopqYWkq5aRszrVVIq5gOx/36/AmKLfPeAJBCiMGkCFApebNZxxDncSo5V8k+NKXW6KOpztNcLcfQ5JxUzcc2MJRSKTQBaVxmATs7f5SmodZismhKhtx0fa1Zqzrvl2FwMQBiXhYKDZsuaVmt1ya6TDMiEMGSkiFGH3POq9WKraaUj9M0HY+xbVbrNRjM02iIZGgiVdQtu52aSZtyreN+h2A+OANLsSGOJU3MFLpViN3t/Q3UEh0n5rmW6Nw0HmuuiDjNs+TFuSCiYHpA8sGx51IKAQI7ZrJa9ofBBb/qYq4FyadxbGNYvJdSS82ihojMzM4LmGqFKo4ZnVcRR5TSXEqerl8550GqmhKhc0FqKVUQcXaMiGlemuiZMaGbl6ltOke0zLOpFoIqAmYL4brtJZelZkAENKmqbxtTRTBHrFKntIwE23aV01KYEVGRi9TGu7LPS1VTGO7BwJhYURC5RQIzUcGqeXIg1dSiQXQAedH7HRH3pmrmnW+aKFrdcPtlLdV5H3yEPDtCV0OuJXRd9L6Uaqg43y0K0RQIV30HApwrO4JSqggRr8mZE9GpaxvvuEoOERD0uBzbpkEsqUpo4nMfpmlsybjzhlac856ZkSiWDCrad52qFpEYYmyaUjIYGKCZ1Spi3seAhohggGLm2DmmlBYmR+TmnImdGrSNRzQ1LFWRrAktAs5pQaSca2xbRigi7HxOSQANFNRCiIZYS0Zw5P04DWaw7npFROJaCxOlVGL0IoJIuRRGZM9kZMSqFZBzzmZgiN75cTgi4WazHcdxmiYXY9/303AwUXbcdY2ouUeXV22/WvX9NI6AEEOsRZioXXUAEHxQgyp1XhIjKcJ6vSmlqthqva61juNRREKMsW3nnD05DqHkQo4dM0yjVhU1JhZybQzNspQq7dl5UZ33Dxr6pu+AmaqkaRh9jE07T1Nh1NW6qkktDkmqDOOYa12tunXbgBo6X0tR9rtUtEXP0HedVVlMRf2hVjAJwSNRLgmQpQoF9rHJOVWtjkOuZbVem4oKzNOgVXyMZsAdVgUVxTNUs2Op4JgQwWn0cbQREbNm5wN3LCJtE0spzkdmXFIxEseuSBE1d/Gk5jqTG6CRsG3aTppO+FEtkvMyYCyS3EN4OmKr3aMRxnkYIzazLowuaAdmDlgNSqnkyERUcVVXilZR3eLmZWF6LGS6lIbbaZpBsel6NZO5IiFhoyWLCrsQY7szrFgrpNsjF6GSVx4aD8F7XpZkuJah0lSMIinYOBHztglJDNS6uDnf+KeX66ZpD3e3QHx2fo5qReXNzb5UvTuMTYxZRLTsj6lUi02oUtTUOadVEJ3uj4BmIkREzPM8OudqLqAQY0jTqArIZiIKQOzMLM2zY/bEYjbJTrQ2TRMIrQyS2dSKJkSrZTHiNE9t20ia8zKKmvnYxFhT6j2Y8+wR8lDmAcwCmKvgPLvqNqr25v5oAEWoZlVwVaBOWaQCIpg5djFEBE5pzrU6xlzEARpCCMERpZJkEi7F1Mph9N6hqgKIQhOa0Pm8DDzPYgJVSJHQUZlXnj2qphEyRBVEJHKgxcSC903bLvNw2ZwdDocPnz39re980/IAZnVazq/WqprzPM/jo7795LuP0jijDzNYKlSqvrp+fb87hNC6EBADoWm2aTlgYAAgACQOZGmZRJA9A1J/saZa52U2zWggBkC1lgI9NG3DpCmpmZl558A5MAUtosRNFz1RWmaDuml8bKMpjKP60ICCOuyac60ZEEXBEGof5/G4WferzUXTbd2jXtiHeTh6JIhK3tjhNE2evI9eczZTYNdGa5rmAEXr7NmjZ1FF5hgFQTIWdsYdqeiy5NWmF6kkdRiOga1tPcTgmHNaljELAbGgMyTtN4FBh2EAJBNlD44p5YyEnVcqJXD63W89b7ru7cvPH/XNex99mFI1wMPD3XIo59FvVj1Q5cu1lKoMgDxl2zaPH7btzWFItcbWI6gAGXp03rGXWoCwCRHI5mVZbVYOYJl3hhSCF1HigDkZaDWJ7bpbrco0VJnX6zN2rtTi0NBYWM0FdA6cc1pTmtG3xD5LEjDvfRtCzskYEZiQSbUi9auz0J9FF10TmNmdr5qE5MSvu06kHqfZo7vc9G3TCnMahjQvVZIWSmgheN9EcixItRSTWnLyjh2hap3nYgrMvtQCaAqwOb8A08PDzXqzVWARNaImBiJ2LqhWq2VRadoWiUvK7JyYMrNH0FqCdzEvTueILtbhfH0Rm8Yg/fIn//7u5dcOMDo3dY2Pses2m/XGW41Ns3X1UU/y9OO3t4dfvXg51eR8qATsXakWmuhjROJacwX0MRYwIjIRIWiaiAKAjlWYrGvaYlhrrSptE52jopmZiRwToRRVyCWj8+gDltw0se3WznkirFJqVseOwAQZyJoQFJGd9+ybEMFqSckRMy6zSllKNtVaUklL2/e9D+wcduhcCN7NefEhVhUE4BDSPHvPU5oce0f+mCcibkLjYijLgqYhxAWLOQLRvl+Z6JJGIgiBgw+qtiwTR+9jMx8PZuajczGqVM3l7GxjZU7HXd7fFm8TffD00SX78/WqJ4Jf/+SPP/uzP3Xkt9ttBZrmXI+HKR7q0F9dXahKbPtV12Kwx9/91ntPLn/6i5/fJT0sAmCS04IAhJ5CyUtJi0pN81KaaDUDB5vGkkYTM2Yma2K/pHTc7/qmEdBpXhxzmWclbrv1Mh0IYJ4TMIMKmMV23/e7nOYlV1C1msRA1VTNxbaUDKZNaIQ5cGCoouJWfZfTHGJI89R26y42RNRuttx04zyjaTVpmnWdpzIdvW84xiUlq9VEA7nVemvko0rOOZWapZIIMofYgBQplZDmZdjdP3Rtd351lZZ5Ho7EruSc5vmgD2makF0To6nVPEdEnncRs95f05zrahOZ2+C7btus1r/62V/+9E/+7Twmx9w04fz8DB2bRStlt9vHdR8urvJ4JBDXXWjdXV31f/fHv/XFyzfzL7/84tef7oYDETG5ZUkiJYSgqrUUdhRDWJbCjgAkchCtOee2aWqVw/HgvWdmUAjBkamCNSGkUkVBcmFmQEV0q1W/gBHYsiwG4LyruUgVMVh1bV1mIByJEDETExggut39zf5wrMviUY/7h7wszoXVPKvpw/1dyYkRt+fnKVcTm9NEzGhqNXvnRYwIYhOXnNM8MxGIBO+XklarjWkRBVWTNM3z0sQw3KyGabIqbdMYWMkVzYJjdryv1TFdbjaYZz3YcR5Llia2l+dn69Wa1NrV+s3bFz/9d/9qGZP3rutXLrhpPmzOztvYSnYQ4+H6bpyWDz76CJuA0wCrczVbXz36rfXF1tE23b++DcrIzg3T6NkxO1FF4hACGMzLEkOoAEzsmFOpm/WWnJvmuZbqQjQAAw3OVbWm6VRNFEutTAQORRGQHJOqEnMp2YeWyDG7qlJyUZEYQ65CPphZFXHOuy9/9ucqAmbRc61WpQoaT7cI1lY9a2NOqZnUq3Ztt5iUPLUxoHOlJBcoBLdZ+8NceL0CAyZar9dVigpUUdFqSMznIXgRUQXVLRM1bed9GOa5pNSv1k3TLMvcxGiqr37185u7BxTYnp+tLs5C1/dXj10M4zz81Z/+B1QLjtbb7uJs1bVtE7ua8wR4dr5ducCg94fh5devH3/44cWjC/QenVdA6jfv/+DvnD354NWb/Z99fV3BnUUP7IHjUiWnlPJCzlvOmcj5UEXJubqkQ2wAAMxqKRlRzQgpEaVa16szKfV4fKhOHTsDIeJxnkgwxsa5kG0CYK2KSoQw1+R8YEAgqLmiqiI3Lrj33vtotVoRIiIsVZld8C4tKXjPnjnEZV6YCJi9j0CooiG0Y0pSKnkXQkNEGzUAQ2SRmomXlAAwxFaKqhl6PuRMQFVNtHarTSVG5Dkt435fLy6PziPfL8vx+Oaz29vbyM3F1Xnbr7Koeu+Qa5XXn/3m9vXNqonTNORlkDx9+OEH5+uu3WyPya6/+pI+fP/5+++Hs3z39nre3R9A+sdP4moNgGCILqyfvPcY/Xu7+09f7t8qrwLfTKUAokGt1VRrrUTsm+BOOblUQ3RkBJZSJkREREYEKqUOzS3UDFad94ugaQHE1rtS6zIpoiNQZqp5Zg5AzJLLUM0FM4nO5WURkRS9k8ffG0KchsFUCyoTx2a1wEJmWkSTNd2ZGJZcoJDVEpuGuRvnwTHlWeohE7NWUa1934O5UkrOiozOZUInudQ6lJoRERBN1B8lhlDKoqKqeizXqxja8e7w+V/s375gcqFvd/spNPFyuy7L9OrVq+589fqrr5d5/vqzl8f9fr/bG8HlL37zh3/vt//BP/h7cbUadmc3b/ehXb/3jQ9c31YFmKe6v3fRu+4JACEgoJ49vvxe/mg+/qXtj1bpnDIAFxFxVosq5bZpnUtNbOdpTJiIKMYQfZgDARFZRsNqVigx5W4d26Y/5iQCJELMTeNTBsesZjmlUkvXIIAAGkRetSsivr1960mDr6FvBdG9vXmoWk3VpBIRsYPdPudsKjE2SDAOe6vGzAwIKGkwU/MhKAOJrL3PU0VQFbVyNEJS7dmRuTzcb9Yr3/ucilRjVJNSTDyWgKFgAafBB5UaptsvfvZnx+vXl+seAaBOZyu+6Nx2uwLyh/ubty+/uru7T9M8T/M0joROar17c/fv/u2fRx//8J/8p5tHF3ev3/z0P/zx+uJ88/F38njU6aAlp7vXwI1vLwFOxbh7+uE3Pjke7v/qrziG3bBEz6JuqlokM0ETmZuu5qWmYd21aqhWgELjeclLjE4Bm9CWhXOtyk7QNOeTKNQw11oaT0qsaSl5UsAQWwCt86ICowqy894jASiFJh6n0a30YGjriwsfwri7nfOy2Z6VJbMSBQMgA9O8hBgNkINf5tmqxNY75xDIM+dQSy6x7XPJWnLstwgmouuLM+/DfhzJKwTWNK36rqRsqMVqCETstn2/v3nxxc/+/MWvfr1Z94fjeLc7qMpZ345p/sCgafqb++Ob12+dd32kD589rhfrADiOQ54m9v5nf/HX3/zhbz/73o+RzSS9/OVfbT78LrdbUSW700rDy9+sPuq9bw0RkQDs429/fH/75qcv7q/69f0yr9ZrXOqICDUrslbTWoBYkdgxIbPzwVlOhahJKYlM3jlIyzwMEp1jAnXjshhgz66IzMPgEBvvAYDAzLeHu12upQm+VPGeBRSU5kUQzZ1v2yllRgWo/WbD07RZr6GNzDRNEwLFrp2Phoi1ZlBqmiZ4X9V2D7fBOTDbnj8qooLkYwiNz1pEFJAV3WGaxuHYtB2hhRAP08yOTc1UkchFt9/fff2rX/z6F7+mKvv9cBimvBTvaOU43d8fnMF2S3O9iNyv4qOr7dl266FYzcswDIchieZx+fRP/mT70Xc3T7+lgvvbt8ebN/2Tj5xv09x0jy4CxHH3ELrar8/MAEzZx29/8u2XDz8ZqjVN3O0HJoZcxlRoyUikWn1c7Q+HLsa+7cdxHkRN6Xgcj4cDgmzXa1NJw3Ks2QdPiA8PDxzjGGNNM6qYmgshZ8k5oQ/LeKylOh8lL54R0ECtqhmTW3UrwFlrUa2hX63YiVQKYRqP+/1+1a+4hnj+eLy/RiNm75rGTJza5fZ8med5mYfhSC44ct6RLEtelq7vm9Xmdr/TaXLO55TatgX2qkvj+1xLE11s2uG4v/nqi0//4q/H43HTddM8jdNMit95vPneh5fP3nu0Wq9CCLFp0UUXYt+tPBIhikmO/Wq1yiWXeTFJP/2X/+zH/+SfUr+1+4cv/uxff/8PG+ouuX80LofV+aal9jc/+7PnH76/Pn+uCOTi9uq99zc///NffbHbP+yHySHPeSnLYmqGiADOuzQv7LmLTS1ZDJl5mWdQdYxT4CKmyJ13u+NRwTyhMR3NCBkQzZQZmTgfJ2JmMwDb+I1vCUnQtCoAEGh1w3A0pGbVqxiZMdM0DmYwzzO7oIZpnp1arqq1tiuWXEuafYiiAOTbltumLSo3b1/HGKAKcMgPu+XNWylL7Da56nD7JsRYRJDcMs1gdp8mMZNl/vKvf/Jwd9e3jWkZp2WZ8+98dPUPfvfb3/j4vXaz9qFzPjj2SkTsAnuHrFZBJYbQyUqrGFQx+vLzX336k//wwz/4x1HL+HB7+9VnV59sXNMCQprnbnV5tr36s3/xz37/n/wfwmpr6Ni3zx4/enX9WieMrQsxBOoBbJhmcOx9QAAzA/JE5LzPVXxs52mqpXartutW1YhCDMw319fKsYnO8WmMUwHd6uycRLSexj1wnFK/PY9tJIXYNdMwLEsm50ut7vrVS3Xsm1ZLBoGcl5yy1Mzs0PtaqiNjwKpWc35lpe+7siRyVGtVVQQkwlJyWUrXt4jgnWu9l1rV9HD3igC8Q1hQUwrOzw8SQojOlZSGu7v92zeOnUO3zPPDfvzW1fYf/d4nn3z3G/35WfCt8y2yRyQyBGJEAgACZgAHqrVYFdGSy7LdrL7+t//86Qff2D7/RvfoWS4lDQ/t9gn4Ni3HZdmdPXk8HefffPqbT77/bYuoSBePnz59b5btJ8clcb8lsxDjRimZ1lSWvATfGDI7l0sCU27XTS4554o4OS8qyDSo7fM2tqukJnmplq1F9H5Ep1qAwPk4T4OFs6m6+lAAocmlZJbKDhwou3R8q6rCfllGB9R1TUsOAxjUaTps2ma7WucqKjVu+5JSv+p8OGPHYAiG43gEMx8bQNps1ymnlKqabTbb2HS1FHIREAAg5SJqPgTfdmpw8/rrV2/ullS9C4Q4z8kj/eHvfOtb3/325uKyaTryDREDMqI7lbCIYApsDKRowBiUFJJZSVyXYPrrP/pfvv9f/Nddt3E0yPhwONxY3Lim10m0pE++++2f/vrXT6/O+ydOq7KU73/j/dc/ffP6eLR5BLBUHtYhLqXMqmRANOW0+Bil1JSWELz3zsxAKgLUXHx0jngZx3y89UilVsdcTZ3z7J2kpdYa+87X4l2UcXQix3EoCMHzum1rATByH3/rRzUvTdfOKXvHHFvnQ/DhMAyiuNpsqkiPznmHzIhUVGLsFKBW8y7G6TCnnNjFtj8i5ZINeZrT7FzX9WZQAdMyMTsIKCIiwhbyPD/cy9vrXanSNg5Axzn94IOrH3z/4+35pmmidx6ITrceAZAAEQyMGEjNyBAY0AjQhaa1M71U9OH2zZc3P/3zD/7uH5QlI1K+v+WtjceH9eZx2d/2jm4+/+LXnf/Oj39o6l2dXRd++/3N7u2L28OtEGyIPYYWCZfBOc9GgtLibIEES7Wp8Q0ZENswjhWscWvGsloBoTlHYo4UpiUplchhvcJlTm1svNb98W7dd6FxZUwG6IEZg5SyjEd3F59wAynG6it7b0TVAJWz6+ZxcAObkePgKiGimuUstT5UFe9823YlpXleiDwdcvBOpSIRmqVlIboDFTUNPhCdqIccnAOTMk6H6xfpuPNEzKRL9uT+7vc+uHx8EZ0LzMBKqIAIBKe7DwCEBECASGRgqKAEBsgeoAMrpaz6/OKnf372/L148ajMM8cu37x++7Czj6Dcva67m8dn8cVXXz17cuVkidsLK8dHm6vvf+e9T794uVuKgeU0bLeXZ9gygokuWhofgGMNnkFVS06LGIimzWoNKMs8KzEzV8lt26Y8qJRA7TwcfdOBwjIe2RByzQ1aze2qL1V98GoWfJhKdcfDHpDG8VVgBkREDD7M8+iRwYoxeR+mtJgZEYUQmVCWGUXBGSxd60LvFJHyPPvCuWQE3a4vaqg5jVJlsz1bb/vjNDrXToekMjbBzTm/PlxLrUgQiI4pP9o23/z4WWwaZgYAQj7dcUAPcFIBAAABGNAQ0dAQSAlAjJAj4ObMVNSW8uUvf/bN3/rhcr+XvERMkJfD9et8fz29/bory9uHYXf75vzxo/nudbc9h+Nu6+lsvZ3zbVbwSPOwp9huN5vh+MAQyMU0HapqXF8AxuU4iVRGrorBAzmveZEM5F3JVEptkJdlQmavNZWiyFVNypJGarZnZuq6gOxLmvM0iKo7s2FZpPXkHaEVMIsOJ85t2/rYkVnb98cBTAwI0dSIMDaE5BxuNmf7YSRAAOTNxTyNDNUMAXPfNoHNeR+7dYWa52Po1lIWEFlMcprTdCylnPQ7QPjg8ebsvGdGIiJCQAIkA0AzPJ03AYKhiQEaIBjB6fVwCMCIyEzsiF6/uL9+cTzb5OE4PtysVr2jsH/5VR4fpv0Dm8XGHW6ut88+ij1qt2LgvtSLBvbMbLWAzksKyDd3t/M0oFFK6ghB9Ob6DbGbDg+mVquVm7v1ZgUGjXcplf31IXivWmpOaU7oObpICOM0glou2Uzv+1UgEKlotMzHkkvw7Lyjtu99aAE0T0cpyTtru6bbrEsqgFZFAKDbbkoRkDoM+xgbBQFqU61pGQHc9vyMmY951/QrQmy8W1JmF5zzeZkO4+DZi5arq0cpzzktu3FABZVK7AAsMD/a9m0bnXfMSAQnbe8U+/8mBxCCnhQFACSmUw2GTAiISI6V/TaY2osXuy8+jW1bynK4G/zl8zlPeLwtYm617lRKyXUaV08fsyl37ZrkbDg+ivqL169yLm/vHwyg1OpIV01XgJe8kGkpJQSWLKWWkhcgxMPapNYmLlnSNC9gPjg0ABEZNbNb9f3GclI936yio+M0EXkXXPB+pobONpuzrUNikQLT0vTrzcXF7u56Goe42qiA815r2T3snHOqEjwlA9F3mEkRbXx0ziMyILbBt00c5gWkHhE0FxV1MTrvypJWl6tFFCEWK8PDbt4/WFk8YVYwldbR+brxnojpXcFDCMhITOQAwAxADInNAAAQDEwJCQAJCYlC8ExRTGLXPmd+9cUXx8NNadYQHNx8aeKpaVDz5vnHb19+3V9eVq21lLjeAnPT8fnVxZTmR2v/8s1uG4xdaFbntVbvKJeSnQu+BRdEa8nVOQ9Eq/Uq+Oi9Q6BJLMZmSUmqrLdnZrZkUDNF8Byy4vpsHXwYhjGbApAqRKtVzHUr17S9mmFNh/2OmYNrMgL77uH+tmtiiGG/2wUXCDA2IU3jfrcjOzRNowwF+fDw0Lrw9s1LRhDTkqupgRgh5Fy8dyHwcDw+vP6amMZpSvMEJWmaZTw2jrUY1kygjSd2xKdyHxGRCBEQDJWAxRDAwAzUEJHMQCuSN3Rajb2r4ME3Pnpz7NYXInD8i39nzs+LkhT27fHuFihATZqL+b5Zb+u4K/0mhJVKOr9oFg1jfDJvr821KRehBs2c48heRXMuxh5r8cxdv6qianZMi5kCoKErMYjUeZqg2zDi3cO9Gqpo9GFeliF5X7lIk/OMUpdlIiI0WW7u3OeffaoqHs0xztMiqjkXM5UqPvi2jfd3DyB6dbFFhmmal2nxPtxJDs4tb79CkwVgXvKyLDG4tmmaEEQkBr9tXC6DzdRZ3YZ+vW2GqHkVGOHm9ev7qkjIZKXUIOKZCAiA8F3KNUYxUFBPIGhgCKiIhkBgJmgC1RC1ktO6gNR5SuB8e3YWLz68/Dvn4ujTn/55Ut9fPMVptzrbaHMxPtw8ff48LTk+etYQ6vHWuhURItpm3a0We/L4+XGsb/Z3qS5JFbSyd8SEhmATiCjRftx75jSNhEhgzAhAmVlUap6X/StGqLVKLU3TYOVODR7uK1GZRzRh4rMQTUsXwn44ODi8aYM/jkMMTRNDzimSrft1qiV6f3Z+8f7leSn57Gzj0I7DPC9ps9kuOTdN27Sx1mrkq7GqMuKSxs16KwhnF48Pwyi1utAupbSxVRXe7877bREt93+U6meM6ABSKi0jMyoyIIuhGbCYUiFiRFJDEEMEIgempgRWTQsgm2nNZcr1OM7zuJjh5uzi/NFj11D7/JvP57rf3V1/9ZUjxdVmdfGkbRhDy90m7e9WH3yEjDoc53REWfzle1dR0+GgVL996d/u90u1VddjzcM0Un++DbTb3RdBRlx35xibaTqa6baJwzKqsaG5RqclQdXV2SpnjDGWWpvQHPf3x8PEjomYzIJrRLmahMjuG9//8fnlo7c311JVAMgwxGDIXQVDW1xcX1xEhbA+n4aH0k9WYQ4hNL0Q36WFmBTIOT8v2cxgAzl003F/N7g5KaLj4lJOukhg1toOX7yycXd3cwNEUsSjJdGhWtu1FdzdfnJOutY3vnr2zilRBQNDQnRgqIagRU1MSpVlt59ubx8eHo61lBBcv1nXYNNd9b7xLFhzMP3o934/p3p4/eUwDudXH5KKRGeSMY/u7KKGub49Ti8/W/vYsIt1aUJ89eoFh+aib9hZyjlNe5Zy8FzS3HTd2dlWTqO6EMfxILxGrihChJdPP2oPD/v7OwOKbV9LkVpv9w+5FA4Nso8xoDEBjsOeHYOqe40X90uE/qPNdjvu7tMwMHCuEkM3DDuqNBzrkhbeJ2aSCjVXTBWHJc0TIrRNM84TmDUhEgIzqso4DCOiRzSEXHJwwUouMW66vix3+/vXZToQ2ZRyy5hSyWi54uvXD4dhJjVEaju/apvzs+1muw4hOA+ErOYUHFgtNS/TNB7Gh4c9aH185vt+0/YdhyY0HTtmhnZ7uVm5r//ixZLTR//wvxi+/vXx5o0/v+hCm0Wv7+61fPneJ53zPm4vp92jPOyw2YhmHY6BBaB60pJLLklLXsWQlgIKdZkPD1rEjKNKLindPzywd5vNZh6Ph+Nh9/CQxmMB6jfnpU55mXcPD4+fvb9u++ub6+M8LfNMgI6s5EyIbjzsh90DEZHMadrXWasWlTIiqRQwCLRxKqK4Wq04MHrVIlOaOY2xac6boI6GZVr1PgQvqUhOedsWkTLtJct514WGh13SJTfB+tY9yAI5aUlFpCFKIusmLClTKU82gQGlCAcgXY67Rcqw2Wy6LnKIZhWMVDXP0zKNIvn8rG3bJjTRBW+GpAQyo1ZjV46FtZ5dbP/6j//n20P+0R/+4dnKj+qDj023fvGrv/7Vr+90Gj74e38YYtudPSrHNy1urh49ml981bMNw7ikXEvJKXvnu26zPNzFzSXVZdgd9vtdSgmAYvQ1Z/AunZ1Zkevpi8NwYEaRV2LWMqnIPI1lODQxTMcHFStLEjDHJKUwO3fllmVZcqoridvGTbZsN2cG+nD34F0sVRqsYbNi3xQp3mGtQAjztGz7xgCZQQRCbAiJnT8cjsvxEJru8uLcbfuH3cN6vTEpM4HWsr9/W1JN41hKLqWggaoBwNVZ99EHT771yfvRMSOaqUotZVYpqhXqTmpfUQmjqKmoSXYI7Bk9Adnh4ebl9d3L62Fc5Mnl6rsfPjm/eCQ5gNSK9Pj5k3//P/2/f/2XP/mn/9U/7VYbdATjzQ9+8IPPf/bLr3/1S3V88f53way5eGpZ729eg+UOJT+8fXW/I8Bhnoz44fqVpMzuy+GwDzGgmeZChJocVsm1jOONGahIqAVduFj1ImJSXesv201VMCwX73/QxiClViMzUFNjdsvxiADrGLWmVd/Ps1Y0F/urDzbeZL97SEumKi7Aw/31KYyRCyZWa6LQ3N1c15yL6Pb83DEzaBN820ZAWG3PMcRqvHv5uZRaUjo+3GnVw+1dnmcVFbVSVFXXm+6D9x9Frs4EAFSl1AqMTN6yqdS6zExkzCooakXdUlLNiyt8e/3yT3/x1Z99+fDiLqUlnfX8o4+v/uMff/T9b38DKQJS//iDH/xg+Tf/+q//V+Z/9E/+47gcN+99U2v+1nc+/s1f3Nx/9tn89u69H/04y9w2q1jHL7/+sn/0/HvffO5Yp6U8OltVQwB06z66OK037fb81BuyC85HJC5iFxfn0zjPWTg2ouCCL7kWM+c9AjE78DF2G9Nac8pFlLiUCqYOzJquKzkty0zNepqXZTjG9XZz9RRQp3nquq1pydPBGUzjuG1aQFpvNndv35jY5Xa1AOZhEBE126zP7ubrUiQdjmmZXHO2u3u7DKOKHO7eLMfjMI7jcbBaa7VaZSGaq25WTQggeTHE43H/k1+++PefvkF0jy/6H3/76fPLNXtEXzyzuFCVc85jSXWGshx+9umb8I3f+cb5w80//6O+wfOnH3F3+foOnzzNq3Xf9GdMfP5N//sqf/nXv74dfj/cvBym6YMf/Fhz+fg/+sdv/vLP77/+fKHw/NsfVjmcnV1dfbCZkaC7/Pjie5+9vKbQPbp6LirDeEDkDXtBTNMAxMgenfcEy7Jo7A/D/SFNDiKCUSUpyt5RhSrVkRSZkY9AwGDT4VBNwMAROQQ2w7Zfr8+3u+NIgMMwzXMeDsfzs42UOg4PhLha9YjwcH93f3/H3nVdv8zTOFwPD21kAtOHN1Me9/M8Hu52PkYzLcu4WnVpmOZlITOZRwQ43N3MyxIARc0zqpqBXm46ACiSxvuH//lPPv/pPawvnvzVn396/ZOX/79/9fP/y3/1D37rk+c4pz6I+a5yVDdLkFxxf1iK20a1p9vL3/2tH7nIlxdPPnz+9P1nV+fnm6ZhRkBT57z/LUapb371s+ff/q3dm1vX/ubDH//+fPtm+43vHef5L//F/8DXT6++9b3m7L1+1T+83d0d70fl/VSXZRjs5Twl76JqBZOUJgBsmo4IEMwTHg+7B9A0LyZCbUPOi1RHUI8FkKJ3WEsuyQxciIgAx50D896rqBvmw/54r2r0mofjsaSMWk3NefeGqNay3qwA1SGZaRomBOTGsw4r51YbnscHIDxbrdSsgbkLev54tV5tpmWZJ1ivVny+Oc4J0M3D8HB7U1JhJFMlAEVMtQTnri7WxFQEDxl2B/2d7/3W89/54fHuIf3sq6uLRy938HQxbI3LEmMAaCoU4U5a316572ye1DQ1Lf/2B78dm6b1Xdevun7dbs5DDHWaTKsGZ1Avnj7xu/3n//p//O3//L8cdvu/+l//+0ebTTrexdXm2be+rauuZOHjw9OmlydrmG1VuUzL1vkoD+XhuiKcbVYlZ5tTXG2gzIFdE4OLTd5PzNRGqWnxAEyY8+TNQKt3vowH7935+cUyDBw4Bm+1UbWLq6txHF3avUVAH8K66dYrN4faxLMmtkSkpTrvQhOBcbVab8/Ob99eA7t+vY6x4dA6H+7ubqsYsp9SOju7cN4fp6nbPArg/LBHlXk8UBV2zfH118NXr0GNQLOKc16zVrHeu/NVA8zYbJpL/+Pfc8OiDz//2W9/6+P/6PvfuXp00bYxRKmmx1TvyxAa9qFrBJQCGikMIbqmCbHh6NmzC9G1Z6v1e895+0yOh3rzVR2hjpz77XmadrD80b/4l3/wn/3vWupuXnxer7+4vjmmkpalqc13h5zaDWy6x9C1v351q3X2rAauiS72G9NaS0aQyOqAVLNVWGolsE3bOr+Zl2QGqRbvwjIdQgx91+5LKUTnbTse95KzGm63l+OwY6J+vXbf+3v/qYkY2NnlJaLd39/Xqs57YL8fZm77KWcXg3/+ofUb6m+XcT4sc5nAawsJhJ+YVVXLUO6P1G965Xh/zNO0AzGUpEUkF7R5ePNVGo9oZoqInpBT0SHLs7bpGwfkFWK39t/77qoK5Kqloirv5vLL17df3Ny93h2GQndjcQbf//iD3/veJx99+N66a2UOZdzPRYwYidCxiMm06H7H6yd8/oyaVl/9HO7ehn677N++3U//rz/7NzYev//Db18+eZS3lz7TfH8T26YeH9z5e+M0d23dL7Pm4zq4jBSbDs5wdX652+1gmru+kSrURMeMKmwKahwiOe/EwICIh7Rfb7fetw931wDogMs0a6rTMoBV6frhuB/2O2Ln5v7ZkpfpcPf1y11oGoaVkspStmebXUmHstRaeCn79IV3FDzf395ZFVUgNEQIPgRH3rt18NNwPx5eIZIPHudJ0kIld31PKMsywnSLMqPWWlWBksxzSmDw4VnvCVWNHTt2ploVOfDhYfrf/vzX/+Ivf/n1/V7IUez7xxff/P3fC+y+fP3ml3/5V6vPv/jRJ5886tvzsH3eMYswOTKqRgqkc8L9DT5aQ3vmkTXlXPHfvEr/3S4+u9zo7cOf/C9//MHT5oPvfvfsuz+S3/wsT7ers03TnR3Sgggscz3uurBO07ibjwQERMsw5pQJO9Dq2zBNM1nN0zgOh4frNwpEKJJzDD7nyQwBaT4eBUykEkAb4jJNXRMWAgBQVeecu/7qF0VUlrkLYXwoDrHvO+f8eH2Iy1JyvdqsJecyXrd93636rlXksLu/hyptEx0V9C2RWUkm0zROF48er88uDns4LHtm03QEIqqJpOqy5FymlL1zahURDfTT3TgmAVUHyj6kbF/d7P7NL17+T//+Z1/c3ANREyMiQp0jyvl2dfHdbzf4Yynl/vr27bTclvr2Z79wBGdd/+zq0Xlw28a199N7T3SbtE8AouP14c6ff170f3ip88V7Hzy7hJuX027+6f1LrcvZ7UtdBLYRQuscN7yZbl6d9f064Os3n1cKr169EjUDrmkBqeK8I46BHl9dvb65HefJM7MhOhfa1mpyoetXnffRh7BsVtOSwAfnfBNbAIzBKzlyjfORg3fPVzFEX1N4uH9YR2JEtLzdns/DbnccI2KPZYbc9w04EMmrvhOOzTSe1GL2bs4zk9dailRQyTkfjwc0IUdNCCKKGOb9Q5rmlOuwZEMGQqmqCGD42e34xfXx7yAo2s++fPP//Zd/9W9//tVhykDoY0QAI7RaTSQN0/XXr+4Px/m4d0bTcBx2++cff/j8B99ZbTY15aXar/bH5eZ2OR6j/2yWcvXe83PfJrUPPvm2fXj+/t+ff/qv/81b5H8Y2a/pJ6/r4eb24ukjKEVqtFyp7zCJEXm07z59FE0P2SI9GTWYApkqMYXI3Bhiv948/VazPw6CpObiahNCU1SIQ9t0peaUskfcEAsQkCPAcTyOpkyOmYecVcytr56CZQRjxsuLx1Xzzc2d3V73XduEWFKuqtuzi65vp+HomzaG+PbtG5O6ffLcpDhGPR7SmJq2LSJEXJdpmYdIVFMZsjrn+nXUIkVkzFIN2uDVBIHBVAGg9T/54vaHL+/+u5/85J/9xRcPY/KowQdDUDVBI0NCEDBURaYyTuOrt3dfvkjjSAj7Tz//6q9+fvXdb67OzpuuW1+cx+aqPVuPOa0AM8Cd5WWc4/FBVYrnuZbI4dnzy9d/dX871VRxetjH1VapcXENx/350+/sxM9W27P++fr9NfX+frdbDHxX6qIYinEplZ3bSWFC7edc8pyLzw6L1FoMsuMlp8lUmtiA5GpOVT1BzYuo1DQxAwGoiNvdvFSRvmvbJo7TsD2/3D7yy7BfRHxsfNP2XdtvzlItw7zMN7dd16maic7H3aqJ0TVHpQK47TfYNA/5OommlItJLfV4vIve3b/+ev/663lZVMwROodVEInUzJD8dv3vXh//9P/5R3dD9oxNcGam+O7pIKKpGQACpvFYSwJy96/elONIZoYAIOPrN8P93erqsjk7M7SGOc2pEKyajkKoquvNFvrYdd3b33yxHMf1h0/B7nbDPCYVJllm7LeAyutz9KEJFC8uH15+DYsMaTd1j3xZ5uNg+HDIEtke7scKRgSm1TvSmq0UkRpWa0bL41hVk1Rm9t6Dc4wAGIqAix5r9VZFF1Nq+14EXB0HH1sXOuDJqu6P43HYT4dD08S2Ca5d3e0e3rx5PaWqKmk8dF03pSwpe+8IgQimeSLkh+sXtRSQHENYplnyAgaMoMHpslhJZFhKic45QuKgkAyg1srsFsRxypER3o0fAdQAwOA0gD/92dDMMVew6eFIiAAKBkLomcuSh1dvx5vb2DQPS/JtdE0sF75drbAU3zcE6JxXMHDUhaBJbqbFkNbrjfPcrNu4OZdpsf5ca2mD8/0Kwbr51e3L+wVdzPlQsPNNmcvaZgUDw9B1pSQjLSDq0EExMTRhAD7FclU1cz5qqWw2j7OaIYKKOvZVIC2L+/TTn/d9b+wIlFT2h4MWCZ6AKTjPBKpVVYnofLuNQSLltrFjyRebDplqSo+3jwyha5pSARldbEuWUooP0TGlvNy/eiVJh/1LVWnbtgKEphcghQkBCNAImADslBQQFdFMEZBPYASYqqlqlevffLXkjMxQ1d4ZRkAuBQCkVBKdl+ycK+Ps2miOYnTvfe/b6+3WOacpp2FommZJ+cvrhzfHpL5zXWdoZVlWz8+bx+9BiNWAwNom3r56w6VuLT0cIZG7XG+u7w9LVam15BxCqHVIywIAIQSteRlSLjWE4AhrqTkV55jMz/NQluTYLSWXnGKMDoDbuMwP4zi554/OECxXQUJGd3H2vG/bpmmmlNtm7QNPy2KKzWrDIUzjuNpeErvDMD569GRI0zgvzndVbc65KlxcPd0d74eb63Z7XmNn87AML/djKkIlF0IEM3RekRSoChQwt8x+FaUioJkhGioYIJwmwIBoZgBARJLL/ouXQA7VDJQQ1BAMQBUJjVBMTxDFuwUjM4xNF9vVaq0qTduz83Hdz5uz/89//5v9WDaXuKhbh7UPrZ5EwOm4Or8yDgFGattpngLr2i2gcLy/91LHMSEC1ZLz7JlrWohdznNOyTGH6FEKKNiSGABUSlpqUTDLtKCZN+1jTMsoSVDB0ujOP/o+h4ihUUFD6tpoCOMwlSLUrY6pVA9IbmGk4Id0HGQ1D0PJfHjI45wQPSwVVGpKIjkblzSpwbC/BVOoSY53VtIy7VQKMgGoDzHVsh+OVRSA8jxzXSG+I4BUzcyQCMxMDdAMwADgNP6uBRyCKoACoimi6QlbJAA1A6ZcMhNJlrQfjrd3D+ttu9l0fUtEbQiwWjebs+b8fJrSeRPJkNq4+fi7RGHa79vNmajGzofgvYs7sPPHV9vf/LoKmWt28xgZLi4e39w/pHkJDnM2sLIsWUVAHVjJJatqGyMCMVARQTREU7UmBnaBLHlHTdOWvITGu1eDYhAOwsaqSXeDmDrEZZzNHsAUmZ0j0upc8EzHh9dpnpxz03h3sd3kUg/7+z6Ei4vzkoumu7TM0btcS0u2m/fD8S2VGa2q2Ym6AoOSy7Sk08mZWMnZh4CGIHC67Gb2t0QiGODJD8kQEBSM+F3+RTQwAERDEBFGJEADJOdMRaVIyqJVEZKUQDHXzMyXjx6V9967f3393vMnZBZcaNcXcx7ZM0jO80wqPgRIRwQdp5EZ0/2ttJfnm9XLF18f0Noqi0y7fXWOUYFRYhdExIXY9p3CabG3xHaF5ES01OpCs96e5VJFzIVI5HKpHZKr+xv2HsB8jGlerFYmuLg4m6mmeW6apj87n5dR58EKtF27bnE2FFPQJWJnumwbv1qvTGsuFVWX8WihUZXkWVIuaRFVAsy1kgEoiMiScqkKhCaKqiimYuQcSkUwNTATAgIwNQAkAjAzVUMzkGx/E5fw9ATMABDpbxK2KZgikWMvKSOAqdRkh6UgeLdq9seHn//sFxeXF+dPnnZnwTHR5qzn8+nFb1wcrennCalbP/vgo2maMtj6g29+I/gX2i8W1u/FBE2/6q8CH5ciBqWCIXf9CpmnlHzTE7vY9DgvYtZ2fVnGmiu6eCSMnTetx3lJ43FZ5qZp3OW66dt+nMa28V0MeZxEUnAMgARSa56HHSKL0ZKXqdSmiblUUGV2t7e3SBC8n4bjcRihVARVVVAJztVcpvs3NScpOS+zAgIjeRataVnUDBAVQKsEBRVBAmA0ITAAoFMAwtOZqiESWCUwMUJEMzUzQDhxcaZKiApmImZQS2Uzqxmq80zHu7vLJ0/2b6+r5Ocffev2zdtU5fJqQ2jv/+7fz1//GtLUnV0tsS06kuNcC5YyV+wefZD2g8btk+9/sM3ldV3vDymRKwj3d29nJQhtKinNy0MamhiX+chhISCgBwJNadZSVuvzvl/naT+Pe3d+EX2sy73OOxn2sHhH5JZappSGZem6RtGmecHdoUipuRBCzUVKJqaz1fZwOByP+6Z1F2cXS6rE3HfNvMznZ1ddE/e3N6JggFozBT8fd7pMYKh5QVUGLKcbbcpMhKgAjCiqUoqPzkSRydBAFU5oIhgSKYCZEpKpmgogqKKd8rQaACgoIrzLFIiAgABW6zKOira/f7hc9Smn+7fX/Wa7Xa9/+T/+s1zr0/MtpUVV++2qzkM8v4hseVbREtkpi0npzx8fFxz2uzRiH3nt6t3DzX5cXNeMDw/esY22QTyOx8M4S3Bd10x3RwBuV1sisuOu5FR0ltxNw9F7rvfLQyqeNIKKVRQiNIGSuaaVB85LIL1Y9w7UI0RH0XHbNN4FEFFZQJNJITtFBCGk43EcD4fjYb972B2Px2kcj8fdNIy3b9/cvPiqipkWSVlrrSpg5rwDYqTTI0BCRADN+d2Bn0I+GIAR4d+U/0AIAIBIBACmp1v/t9z6qRQyAzQARCA0g7pkNEPP8/HYbzZvP/t8d31z+fEHh5evh8+/dOSt5k9+5wfz4Sb0veW5hn5zfoUlSwU+f+Ri0yPCvHvyqH24+aqMt+rjGufvfbj60TcuY9rLdEjHfR72oOWsax6fr63WvMwMRGZ1Ga3mxrvAvszD7c31siyOaH9/Mx72qKDI1QiYnZUCiI5YclmmuelXZDrOowGE2A7jDMNRpE7DvN8zgtZSc17u7m6l1r5ftW2T5nE4PCDYqm2LinfkXRiHhy74x0+uxnGWcSq5kPPsXLfZcrEwZQMgBGAykXdtl5mJIAIwgZqqGiAYAIgCMAIiiiqyO3XGpgaEcHJoQyDECu/eHmKiJkDwpthst8f9/sUvP7t49lhM/vqf/fNYl6uV4257dX522F3fv10++vCZLoNibB4/K+OuLBtPvL26XN68XrK/OH/05vp14WtVcXma/Oq951dF6/XDxD4a8H4e26Zhdo6dD27JSdGq1di0LbtainqHBiklJN54lppLVsdOa3avX32pqt45RFuWhIf7vm2aphnnOQberpxjTAlX0QPBqm2R2AhrEQXo+w3HxoV4PB6a2J5dvXc4PIia5oz7nalZ23A78c2DzcVwAXQZHDoMjgJBMRQzIsK/veyIZoBmaPbulAEQyMwMQcHQ4BRiTNVOoYaQTiYap3Sh+g4rRZRpiaveMX3x7//UIZ49e/rln/zk5ouv/vOPL+fdONzee24e95vbVy/u7tyzi6t5uG83lzweynT0q3M2Od+s3uynpx+89+Lt6zxNZ+dn+2nkOn19P6y7jjjulmpmiMDk1n0nksFy47lKDQgkOUSnBM4576CJjQHO85DzrHYCCZO7ODvz3oe2jSEkkVW/BTBz/nAYNmeX6Fxe5rPYLKkWtWa9QQ7D8aDV5mmcwJpw5pruMDlS3h+15CC1UsZUGHOCdT+MO0mLsSMkAAjszCw4jsFBVauKhB4A1YDJzFDNANQUTkAuIvzNhgYRgRohCRi/8xpVYkI7FUuAp6eFBIBWhb13zl3/8rM8j89/8P08z1/95C9Czj//9EsSa2P38tWrZxdrin0mn/Ky7HZNv/Hbs3kZj3dv4/d/V/LcNXG8vnv/8nx3GNO43266WqUfbnaH1EWMJQmG3oEthwBWJaspALeO0HIIbdVSSgbsKPiMVAQLd7xam0g1sJYcXX0LHYv32XtVHGMzTxNh1NXZgzFjHDLIuJRcgJGXBwPUZV6vV8u8SM1pnoBc1zSYhnp8s121+/2DpKLDAWoVnnT3Upcjny46VM9KCH0TxuBMUwU1AK6qS4XO07vCHoDoBEKDvXsGJoJmhmCoaAgAUBUBgFER3uUPIjAlxFPP4bybr++M8fF3PwGEr//4T3mawjInsHXbsJXrzz69bD4hgqZtyzzlCul4pLx0l0/nLGkYjbv59s47XK3Xs5bD4QEEzq4uLrf9dDcNs1+tV83q6mZ/8MGLgmbt+s7FrhYZjgfsV027oio1l1lN2i6GWNNYxAAJFEzV7cYZ0QhQpJoRaAUQ513wXsRAS3QcAH3NsOSm8c559bhh9HQoKCSQphwk9H0rkJ+fX8ru9f246x27tnFslWF0Lsbgx7GkxKahieQwOD9bZoJaQWuFYTDssW+QyUQJ3x3yOx0CAc0QUAhNxQwN6V26FkUmNFBRACVCAzsFtVqr5Pz4e99xIVz//NPDly/CNK2IAKCoOKZDSg+vX/ar9njN/vFZs95Ohzvq+qbbNudXlR2k3IRoyC3Lxq/N398/TKLnF0++8X5z95X05qM49uGyllKXLM5J2xfTjDUHl7KOJVWtBIhIkKsUNZM87RHMMcs8Ozdc+9g0MTQNlCKO/eFwtGQG0Hb944tN2zbAbklpOuxKKVDtbHuxzEdGdE1LhMTG5Nari93D7avXb51rnjx9Pk/HWjULkG+btvPrs3GcpVQXArsAxOSIiZxSATUAqgUOkxJRGwDxVF/C35Y6p18JCdDeNb9ohGhAqKCgZkRESEaIAI4ZFcqcQtdMD7vlsD98+WIr4iVPmjf9hqWi6f76+tj5iJrn5GV4/tt/75h2CjI+vG3OHlHw3dXj6esXoVmhwxl1Zd5oHMb55d1xhXDmyl3WYciG7viwYynkXZoDmiCIzKlpW8+ca3FIOWVFMx+YXbDCVkqxQETeZB3BWUlLQZPQOCbs+tZ57wF89PvjfjzuI+N2e4Hkpdrt7e00JkKX00JM3fosZ0lp8p7meZmKCfAwzNUw1axmjtHUGAnNlpxPlrVE6JnREAjFwIAtZ9gPVioSAqIBmOi79wDRTg1XFTADPT2Hk3LN7/4lUjNCJGZUk1zIwMRkWva/edUDfreRNI455ZJmVWX2LHp7fY3oyMd8vK/jrjt/Nu+O1LSap/JwbWBNE+thB2XouZYyEubA2ef97ji2y35djl068LLvHSySfYDI2TuTkrtA71+sW4bAFJk6hw0aSapaiRkU65IBiHz0m81ZrXW32y1J1ChVGaeFicD546KHw3w8TC9v7qeKTbfJOU/TtNsfl1SYI3BMiiLleNhP4yi5DIfDiy+/HA8HrQJF5sO+5JrGgQmZQEvJ06SlqCgT/a2AcMqxmIvOSc3gtKfEiACqCmaEdBI6EdHMTAwB6DTVASR2aICmVtVEas1m1aRompe7OzL90TlvUJaqDTmumkodx7GLVBXysnjH5vv9lz+1adAy1SzYRgBYbt7GtmmjO+4e0OSjp1ek9f4wkiQRqb5lx2QVQbabbtU0QC7EzlHwsQ39JgEpUGBXVI3dktNpryI6x871/WrVRJeW8ur19TQOMTb9an0cjiIqWudp6rpiplJKWVJFMwECzXksKXvvh+GW2Y3jTlUI7f72ntm9s1goU/SO0MiR8z47x8E3fbccj445hDjTAsTI5rhQBQUQUzVFAx0nbjzQyWIJiVBVwUBPV96Mzfg0iwFQlVNxBWrIZMBoZqpgcnqJdBFF/AfPz38U5s+OSkiRGNDMoOaCvN2crXYPD2etv/r441DH/ctfBh+ATObim75MUzXIpWwjv3nYmXPrrj3fQIwE4/zybt96vyuwjgyAq9U61ZxzVbMm9iF47xz1ZqVKyVqLlOw8r7FoWQyFHGhdXK1VVFVEtSzLfhkXkEpEzkFOQ1oOCNg0LapqGkITAODsbOu8S0VETNTabpXzGHAd25ac11xWfS++a1Zn5H0VFvB++9j2+7A7uHaL3YoLuqTT8nDqeKuoERoAI0CqMC3atfiurDwtL7/jqBFBpTI7+xu91MxAFcjerXQTWK4ne281rVX/4Tcf/+NzFez89a51xGRFlJj7Lkqeu/WzHirMw/7zn5//6EcuxjocYJnIOZ0XiY3s7iUnt7l81jaf3zwQNy1rrrZZtQVpGkZPKJJlWAyQ1RBRJVM9OgyozpnVVCgNteTIsFmvyJJYVcBSQQxd3wdTW3UbIqy1OudWq1WIQcTmlAHM++hiKLWsN+dEHC4dOxbVxndIfp6O5BssKaeFmxaJ6zDAMiwCxh0ApWJVEBVzLUSU0+K6VS255iXlJIAKIGieXSnlJLnJYfI+SOCTEE1qf7unjd5prvZOiQY0QURAIzRExVM8OuUEVTH9J99/77/5weVnP/uM20ZqatllUUFchTAvcwnhq8+++Ojj9y8ar2kc7/f9aoUxWmywv7DjThfMyzinhYFW6/VVo6/393ncQ9N55zcuN2dxGY+7uZo5UylG7L2qAVMWZxSrWTZMft2crYl9UjimeS7YdKuKUkt168fvdW0rCmBazWWDGCJ5P82LV/TOqcE0L5UldOci5kJ4c3cNYKAHz7zMQxNTiD6nSfJiYJwXqrkhb9NOpEA+tg3n5UGXvfPMrKTFzMqymIiq1tO6r+g7fykEFLOHI5/3EIKZnbIsmqIimBGREYIIwWluZmhGBmRgpmBmYFpF1f6zH37w3/7Db6bDDoJHqR4wIAiYmjqA4zRLjy7p1z/9mfvWB6uLdXp4u9qeNeszqEWKxM3l/uVXebxz3ZnMY25WZ7G956WwmynsFovc7Y8zQU99PMy1aMbYdv0m1VJ8SMBVRMHMtRz4aCCpiqIVLpVqEkLi0LgDrMZMgNw2cc51WWYZdkB8Eo8RxEQlV+9cGXZWq4GEZYrOz/Pkg2vMgogeS0QoWRixCX7IYwyspksa55rWj5/uj0dGVOecD8thB1JqFSOUKkXUsy96OlAsKkxstcrtXtvYnq8ESdRO26tmSsygimpEpKBsp6mAQjVilCK1ytWm+T/++KP/8nfeV62Z/OkTBI65bV1dQESqKCGr2KPHm3Gca8kyLamJteR+fRWv3leOolJ2N+NwvfWRuks1A6LomnK2NeT9YjfHo4ubIWt1fYlJXGV2U7GcKhU5TfSYiRBcaGRZyGoXWwpBBAGgjU0Tglv21w6JmOc7yWlpvG8YRRWRECU6V3MFM2/sILFnUSEGMg1t9DFILlKrKpgIorVdt0zzYRjXQLFt0ZAdL8uigCe3UnNxvt/NKeeaSy251pO0KmaMJGqqwAgAVkXlMG5Ntk/Op8bvhqJghHBSfgwMARjAOfLkqlRR1WxF9B997+l/+x9/58PzZlg0GXHXOMSaSuPZqhBiZFYTBD9lqXVuG+YyzEdxjPsXv9quo6Z5FrH5vrs8P+xu0rT0WyKkYRwuOvf2xYOuzxvvZwLMM6RScj7brAlYSjYCQR8cVSkm2raNEjqi7EIu4Bh9jKYuLYXJVRHXaHZMgZtUROvc9yGEkKsCsHNaUkEE9m4pJYo3NiZGYACIMaqZMcTYllIkJ3TEIcgwIXOInQEUqeh9VXMuiHNmUETnkvcPhyUVES1iiFi0oqGgqhkBAICYiAEYWa3vo/3v/9H3v5zST766/eLNbhhKRArMJ5MC1ZqyVNFSpW/D//U/+f7/+Q++yaDzLCcZG2tZdeFuHJpA541fsZtSzmJmSkxLgd5bVjDRR9srt1oVgQBo47FUdesr9L95uHlp3p1/sN5sV/m4f7ayOxDyEde95JmZI3LXulrUN6tFIeeCpsE3qmZMzOzYKWIIQQUAyXkH4IhIobqUBIOrbORdtz4rCifjetESY1CbrVYXglGRUhtuQgjTMqPaUiqoqiifaFwzZKdGqugplDRz5Pl4pzn5lSNVK8lqzceHw34/TnPOZa5GiKIKSKBGZKLKSKin0t8AFIDSUldA//Xvff+/+QN8df/wx798/ebmkEod5nQYc/D+ct0uqWxX/f/p97799799tSRJ+YQYqOWal7Hr/BBjm/XpeewvLu+n5cuXD6pm7CpFCtRsVtNhtxwe4vn5cH/XPftG1fH44peX3/rB+UffffHzvxiuXxLS+hs/XD/9EONdPug+Z1MxEWBs2Qfn5+XI3nvvllwQvWc0U0AiIscOkQJzWVI1QZEGi1YxE+dco4CnL3AQx3E6zim1DQcfU1qIuOsaRADTVGqppdYiUjw5SckRScmpjDGEWnKtNTpGTYzz/u4tez8/3MXVyocu7e6XaVyW6X4/jHPKtRYFBSuqjHQSP1WMDIlR1QRADZg0i+ZaD8d5GJezsPrOe09++P5j0MxoDFSktt4HxypwCk5zSgJAjp1BzrOqGpILcbvpmFiNY+tis3r15p4JpVqel4XbRnn73jd3b75Eq/Tee5vd/erscXr9eRl22F72Tz4qhzfDzUvuH2Mum67dSnrY5Rg8UDvPyyjmpFItdRljExvIYMgVAigUJWWZcs0JmEutzMSEooIGauKarslpySkxIWJiqQCWhz2Amep63aPKOA4mlcxkWVStCb6kRAhLUQMwMSU2ZPK8ffRs2u+mw22dFsnqYq+8God0vN/tbu/LNO+mvJR6UheKCgDCiT00Y0QlUICTsEaAiJiKLrUeh2kalrZvmREdewyIgExdaJjciSNStSoC6NCZqWlRBTSiU0PtvdueBwWspY5ZUYGD05q67sxj3l+/IbCslOdZSp5vbvIwNJdPmtUlthvL5QCV8jw/vDEOkIaNx03fv/z6dYSyDSEVqocD5eLMkTHn6l2ouRSpxKEUnOYFzHKVdrUFAAK/2mznOS0lOSuHAEY1n2Z9aFByEVPvfWi6uNrsHh5Sri6E0DbIvopQCFyBHW7Xm3lOaSnANI4TEQ3USpTKc/VlHO6c782v715+evfqyzymQDLlfPIcOhlh/42O/DfwzykBABgAIwKAmk25Ho7j8Th0qy54J46JTq6GAsaADsEA1UwNFDiQGVgRUyA+adloyo6jDyHG+/304strAGZEQpqUukDznMI8U8lZfF1mBK3TsSwDsl8/fva034BrSllC6MZ5eDvVNeXnT75Rtu3D/bxpNxd9Ny45V9TQC/LE4tiDJ0Fcr89yyoWOTJTnxXxbcpEKwD10/XjYu9h381wpdEuardbN5gxUPRMSkY/N1QegvkL0XadIvu3XTTMvCxiJ1YWamSmBzrtjVWWienMbJM3Hfc55ngYDOL56cf/iq/04BETxmKsgUGTwRAAoYB5ZUQXk1NoCIgqcvIIIwEDnUqcpzcMwj6umCd5FIiI0xKAIoqdW2SmInmDVk1LEnuikFzEAIxZmCDFctKv02dvtduU0GfH+/mH1eKPkh6xXm0vEOc3T+PZLayL7RkpxsWXA9z759jwPKVe8g/2Y98d9fPkFt8/OHr9/mAusz5UxdJaRlmWZNNUEzjkfW8hILjYbjuxim9mRIz+Og6QFAM66xtH6qY85NH0ep7xMc1hXKUTMLoxp4qkswsKhUhRDEypzPjzcMwOJLQSiVbJGxz0gaC3jfYxRwIZpONzdPOzuh+NQis1FXHRTrkWg9SSm3hEqZBEiZCYUMwAGZOICVlWJiBFATavujnOaU5qmpQ0+eOe8OjrN6NXgnbEfM5IhoIkYCrKTOp22r4yQnWMOw348DvemhgSeOIk5ElRLc70Zh82qrdN88fTpOBRIpVlhLfL6V7/cPnl++ex5f/bIgk/n1+7ly3uCaAnKfMhhAe+lZmH2rqZiZjH4CABgDkoL1DZtE1sVQQigWMVa7gBgXJbggru9PwABjUvKxRGXZTIRIyJXglk53ss0RDBKQwwdQwGFdXSBSEyRSMVDRKsZixRVINzvdjcvX96+/Xp/f3e9O6KRqDCiIhZhBFGDIsIADhAQBNQ5B38T9z1BJD9rITOP5J3zTOOSxlRLXvK0pNiEEJkaJla0k6nWO0tRNCM2Q4BUaxUpRgTsnDvR4Y3raLibkGOZx0iSKlx0zeGws7gKfpXneR1bcD7NClq6y26Z9rdfX//qL//ik7/7+x9890f1Zuy25xfbblySFn6sPBupUUPCVo5Z1y6iZzVyjnMpauZQalqSshkYWAxNlaRqzK6JjVZzbBWNmhhbJhFxhOh813TzMoOBM13F4J3LtQQGVQmxAYtWSvAREJMkApOUxHDY3w+Hh5cvvr67vp6Pe6klFyW0XMsmhlylKCiCGFRVMwz8DgElA+J3Emc1672TKg7AETaeO6aujYfDgs9PUOxc21ZdNEM7YXAIRmZggKehPb+boQEhIaC4EJA5bLYo41zk1MsAgnfUBHeYE9UZGvOPnmzOG6sTX3189/nPth8EF5oZyuq9b7764ouzDz9p0uEwx2Venpx3u3mV7m/PHDHFBd352sGwHBQdY0BUOA2IwEDVBKqZgg/erDIjAYtUUiFUt1mvDSh4j2qppFxrcC407VJrSUsAWm3PaskIWMya4Ff92sAEUFVR1TnO41DHQ8rzsNv96le/fvHy63Ecz9u2qiYRz0xETHg6dzBTMzVUlXDCs0TBgIjc3w6EwRpiMGwDBoRVjBdn61zqMNfQQimlFFFRdYBKego6YIgERCenOSJvp/iPxA7cpiHmXOrxfgfOKSze0VT10bZD02a1rktOw6RFY9MjzOyI46rmTD4eh+PN7cFcE3/z4ke/+0NP5uC9+fqlz7scaLXMZo58N6Sy8bhUDk1gVakpeJxKZUBPyCSACnmSsRCBlCqlEJpJdauuB++liFYJjqlW71zTdlNaquh6exabZnd34wnNMKelhDkQFqsq1aRgXdLb13k8vNwff/Orz1++flNN2RBA51ROKubJA75kqQZAWFQM7LQOQEDEKKLMHlEBDUQQ0ZEDMEfOkbHn7WYVEO8extV26yrUIkUN1QAJkSoxnuY1BqiEoIBkQOQ6U1ttL8N63W0uXv/qF7V+bcBSxcf47JPvnHnQqsvucPbs6vbVa60lhIZKnQ937LAsOXa0fvz41a9eTHNJv/hZ6ML7Vxeuac7e++Tm879wAdaby3aab2RpQpyXua9zmjygNoxXke9Mai3DbrYYvPfjOC5ZttttqibATK4SOnQezJhIUK1WZ0ZSuC5BFqkTTA9lIVyOkS14BoPx7W1OCUnRlMEO+90XX7/6+S9//fb6Bg2ImcyYMRfNUpldVQ3sVCCLGAAT5VJMNTp3ImrJTBEUgYiqVAMQtYadgDKSJ4zsUHB9vh6nuSij77NyLkCe0UfCd1a6akCqzGAKAEguMqsxr1bnq8tHHFvJVXIpooyoWC+/9R29eyu3bzg0WlMIvDxcz8fL7eMnWu38/ILmeXj9m3797L2Pv/nm4fD4yfs/+fO/fvKHf/BweKib8eyDb+nnv5jmiUB6l++X7L1fYQYlRc5AbzOiixlMuk4QzUVcbUrOEzUj5SICwIDkeL4vOSNCNFiWWa0yoVjPOblaymguhPPNumlCYLcbhmxDxuBCpJQOu/tff/b6r3720+NxOPkXygmSffdVFlMUAvLMU61VxDsHZrUK04lLNwZUMPZezQJxKe/4HkEIzgXGdd9crLu+X2+254gsWXy7Jh+QAyCf/rcGJoaAwEYAp9UBbtbnVlGr5mmZHu6P12+Ob98gsWeuKrXa1z/7xaNNd7tfnn3ne/Pbr1artU/X6IKF1eHu9fl6FXo/pmk53n81tsG3n/3i0w/ee/KXf/xH3/jR3/n6OjX0EJsLvxzHQl3LS9O8Hur27Nxld50sCzjHICZm7ebKpA61ElPsThMO7hiYkExdEzwC5ipLlULRcTvn4mi1uGYsEzdn4n0RvN8nT3nIFbpLmIay5E23+fXnn//0F59O48zEUms9fQzaOQfvUClG8sRmkGoFRI80lgREhKBmdEI5T/ibvdsGOAVxAUCALoSzvr3YrDbrdbdeexdUjYh9bMkFIo+Af0sP2cle1BiZQhsVSZPkcZacd692aRpD08XVEhVLlax08/L1Ch4Niop0HOeLLkTuOXq6ei63++NYrq4ed0S1Ksz16/20Oy7h6eMHWMWb229+94dv7u5v5/Lh5fPuuF/S0Datqb3Y1Se9V/JEYKDM1DrfeGzaRlVUxNRUJRiwY0Qsi7i3swQXzYOQpVqFqKK03flY7jOFBX30XaoypuQ9gOCSlnIYItPd3dv/8Cd/vNs9nHyXzBQRHLGoMLOCuRBUBQmHlKpIH2OWWtSYkBAIgMxOMxhTcEB/Q1YBKIgZeopNcN6dbbchuMAurMOSigN27JwPSGREBkCGYEbvkgoSsqk69qHpaq6mHIiQ/FLBNX3eTbnIYRqbHg+H3VzdlBXZK0fXbfpue/z0z7ruYpjSav9w/uy5A/4IMs+0KRnd+pP3n3xxe3Rv3nzy7OmXg/xC/Hfef94er0HyJ+w/3+VschXwWBTMPDtPlQxrLp5QpeZSBYwRailVlBBpl/TmuEyVfLNCdLmab/pcxNB73zpkTUVLbgOzgSOIDrddvDhb/9lf/OXd3QMhilUAORmdK9hpwGyECMZMarak6p335LII/o3kcBokAgASmQGRKRgDEqIgGpkheh+70HZt50I05zg2TdOj80hExEgMyIBI734cK79j1tXyPBNi7DrXNK7tjB35QN5V1SkVRIyBxiTDlKbjvswFEMh3480LNcGl5N1D3r0FzaumOXO56doQmodFPr++v03105v9m1q+8Wztxodf3uyXiw8n18syPOtRaq3LyCZEAKa1lprLnNNxXsaUqhkbqqqpEqpZddu2P1UlNafWB/TQxEiE5siFGKODKhVJwXlmQsHKl0+ufv7pp5//8hdgQI7YuNaTmG8nVlxEmxgWKZ0Lwzyzx9a7Mc/vXG/lBJgbMSOcFrygAjIYeaciBMBIaoCG7H3TRh8Cokd2oSd2kSkSeUQ7SRJAiGZkBkhEgGYqeko2pgKAtRY1VUQznMYlFWkb1lI/O5Q24uZsdX+tx+Px0jlU6Lpn7epJGo+p2OHNVx/97sfvx/Vvfv5aMAzHw9FzrmLbi1+/vvEx/ODbH/zLn37xs2JPrjb9usThdst+bwTM2eDUgYIKmZSSVSqaCUHNGVQYoYnBdU0kICA0E+KoIqIVFNsYmR0iFhRm8s4jQE2Fwe/H5V/9y/9tnkYEK7mY6clXFd7ta9npWKLzYIZA0WEqNSswkdX6t7iDitipI4ITgoIn8MTs1BComrIj573zEckBIDH72BC5k7XuO7DIjABRBU/znHfihLGnEPuaaykZiNWgyOmpaGSfFW5y/Tj6+xcvx2VxcVMElmwX2wvouvzoWYSKXsTg4unz39pPP90p16bU5Ctev3gNH3zw09/c/t1v0TfO4uvjcn1TP3j0fJnLRu6rC2MZx3kxUyBQVCaiYk2MIbKiAfki3K37s/XGNW2rIsjsmAk455wrllLOtr0B5VIb54ng9KUwpp5B//RP/sNvPvscEUTUzNSU6aQ5IpKpKDoHiAw4LouAgUCW6pyDdwQtoRkRnzbhCVHF2E57SGgAAugAiggx16qGjkNzArUIHTvHTIRMxESG/K7jxIpsiqanLpRj47qupjQPd4Bw4kbnUg7D4oNvfbjZLRerLXfh65dvH68aMtNmJaWWaRzm7AI58rIsmkZCerTdfKPsf3mw1/vjNMyx357NY0b79Cu7irBiul/STZrPHz1xD9MFYFsdMlTDGEKM8Tjm5Ovq0dWmX1Wpw1xRlHwYODjneBbpnFMzNQnBeaeZqOYcvRNZpBRiACmMgITTNP3ir/+slOX0ibET2GsGqvruM11MxBS9X5al1OJDSLk45xBRRMGQEBwgIRZR9HQaxhiw6WnzVJGcJ9JT+CCutZwoXWZ2IRC9Q9WZmRyTcwDVSn2XS8yCbzCG03JflioiYlRUATkt+ZhLt+rGeX7IlWB/1j1G5iXnJ5cbKxIePZI09h/9UA/76c1XbevSeNxGfvatb9/PP38vHr/3g2///NXbX37x9vNfHr/xwROTC94255uN1irjPvsL1z+h+UjrMw5iRgVV0A04SaSjdUwtapktFSkFrHXgYBlcTlKOTJZLsVIdgZYkhsWqmVVR13b9anMYBnDur3/60y8/+4wQRe0dA2J2EhhOH7dgIEdcS51yjrFd0vJundH+ZvcIENFEqooABBMjQHZY64m0AkSrYKhaqnZ9My9LSlPfr6XWsGnMgJ0n58gxIUIVg3cVKKFzrvUhECH3ba1lvLsXJREUwVr0OMz74/JbHz/9xW++Kuyenz8ahmOOzdZJTbOcPT7s9+d9o7tbCZ2CzodjmedlmNvz7v0P3vv8Zn/z9YvvfPKtZ08u2gLH/ZFT/urVuFmt2zYUT7VadW2t42JyzPb/r+rLduzKkusiYg9nunMmc2Ami+yau6sHq7tkSy3YsGUDkiDYMGDAb/4/v+jBBmwZECBDsiC1eqieqruKVSwWyWRONzPveMY9RPjh3GRLBEEQIJFM3nN2xIoVa63NwixROAhhajR0Tb1o27aJMQQOaBPRhd7cvu7j+GeTqUqzbagEVdTaatN5LwzJMM0m08q5CqPv+Omzr3zb9Bfq9P0T+rvWARQRCxtSzFK7lpRywUdhQkLEGCMSSYwsQopi7P16O3Nd5AgiqHpBIhD0GzkusjwE3/8rkYPWWilF2iilAaU3wAIKIhiT2MRqrW2eqtGItFp99bXrOgFgZhHuuna1Ka240G7z8dRys1wuTjI9b72ZDROQ25vV/sNhEMmN8TaNaVI3lTL66W8+/fD7P0jHg9OD/f/+o1/8+MXlcDLaz/NcQyY8m+2/XNYfvH36ar4toIuDgo3OMObiV00LzEpRYo1vGpUmiijRAqQ6LxCia1vNyVRIiaKSsiTLEzvZNo3rXOkZydjUJqOxHYyvLi9asXc3l1cvX/b6HOhtQoi9QpZECCkyI6ALgQUkxBgjAiqlENFoI8IRUUBQRCHG3QTFSNTrs0iYEBQQCCqlWTj4kKRaglRVOd3bt9YobUlpAYFe0YWotEqyhLTSCpPhgMYjsFls23ZbxsjSW7ad77quLtdl5786X1xuWx9lLbBpdap0tMfHJ5Nfv7yiyVEgrRJrxlO/HueIgDq29fzm5p133z/cH3/44Tt//eNfu7repMneZFLspQ8yWy3v5qvJfqovNot0kKl0wNXWcEfiASkGVwWviKIHoQSBmzZ4iSaxqda6odQaqxLriBSmqJlMRAYgNok2SnfetbfzTJPOs88uX5arDfa2xPsfzL38ggRYIQYf/D2cod7WuAsdAOhzWXvfF4jqE1F6YZAIKgIBQkSQKGiMRiTvXTIaNnWTDbJiPCKlsPfR93pqRcZYbfvJgBQhdgEZgMgvF75zQIohRGTXdb6rXy7rq04OUBqgcWo1QidQO/fVxc3Hx4PRdHh+e3dw8J7OCgCBtMDt1nfN7ODBqixX6/X+3uhwmjyYDYG5Kauzrt3z4S9fXz46GA8y8/Z3v3ux2lwstqfTIUPVth1HEUQf2SgVnKtd55q2rGsGShMqLHabhc7zRCEajYgQXcnMFsCmWlxEEY29blesVdw1F19/ufNuyRtjo/Q+6d1nyODh3kV9HzqglBIEjoEQABmF+vFLkQhH6I1dIBgjEhIgcyAgFGKOHAIR1WU1Pdg3xhDudLiCBKS0VSAQnQciIYzIHilXBOvN9mou2IcTheh9vb1TSbFmhRIbRksUjHo0yBsfrmqqy3KxqR8/PE4OjoExXr8uvvGhMBSHJ+loVrK+vbgGxu//y3/13bcezi/nv3q9IJt0XXl1eTUZjFZrOru83h8+H0FyVVYyGoMgx6hYtm0lzKyJmIFDzbFyfphnlnIM7ma50tPMdM6Jq9MkCSCCGGNUSrfiFCgQQMAYI3q5vDy7fPX1G6ze55j0r3m/WUcRJOz5/v5wKATuT0mMiMjQh6BHFmU13bt7IcZAhIpUz2e8ufgt+CAsMXoJbjAY9k9aIRAhEZCSGCMhKqQYooiQJkrJdb5r2s51kZCJIod2s0qy/OJ80TXNbeuL3D45erBYbm4b/+1vnE6a5qtXF7Wy2LVpUTTLOUW2StLxeJjkmJi0cdv51d315cnp8cHb7340v/Mu/Py3X07GDzabVYtgU3u3ba8Wq3cfHdg0q6IrhqO8usu1BXFksmKQA5I2JjG28ZwlSV4UIBDTNTX9TRFALkQRUkobk2ht8jTVRrNAjJGIOMSLs9ddVYP0osdd4+2BY88MCEDsrVzYu32xf3j9V+iBELNo6mW1aIioD90QRgSjFfQWF0RmdjG2wUeEuq6SJOUYeziP1Be2XbLTzpndgyckAWo7V9ctoEZlBLEt15gY1Onl7VJcLAWutiEbjE7eezewPL+6ORmP3n90/OXXr325Wa1qIL3drBOF6Xi27dri4DBPs6IYLLbhk3/4qU0TPZkdHIwPjg8611XeV23lmnJ+PT+br9om7FszVmE8zI4fPX5w9OTg9P1i/ySfnU4PH00fPBzMjobjA5tPnWSd5KJSTaSUUv2nKYLMEGMAZq0kIeODC6FDAN+28/NXfcHBnVG9B5cA/aEA0YSpMpFdEEGCxFgfIwuonfJEmJmZ/e7aD8ysaVpPAJ4AAQhAIwVhBaSVakPofNiU1eHexFrrXAcIpPXOIUMIShPuUBiS6ht6jBxj5N7bSjqGEKIkxaisbi5vbl9utoTUifz0i6//3R//8f7R+tWrC+F4mhshFUCq7fLBk0duvuZNmWRHy/OX29OH2qgks5DmPsiL3/7yZG/26plBsHVYpandrNZKG5vkr6+vPkntt3S+Bnpi0kzZ+bJ2YgH1tvWrspEQvQ8SYidBWIJ3IUQdOodacXAhdApFkLqujSHkWQpGK+RUWCu1lapc34mwSBRhRcS8W6MD9s2UAZRVlLKqmFHARw4x4k7V/ObAIAKEEB3gRGuT2do5H2AXMqApdkGILBETec9d64eDQZIkcecOE4Beo/umnSOA6v2SCBBjDCEgIhNK4Ni2Nstb56qqOrtdOwCrtNbEIf7l//o/b+1PHx4flk3zfF1/7+TQaK3QXV/NPxztrxma1c3y/Cw5ezzZ25+Ns/TqlqcHP/v18z/5k9Oj08Px2fN2s8qKYbOtGIlsp5WKT2xbbW02udqGhwVZ36yrVcdSu66qW0u6ahtrjM1SdqHtWtJK27hhF6u6ItJdYJtaILV3cJgXOXPMbUqkPen1i+fVukTpY9AwsCjq3Ys7hzohReEIHEUUKiQMMcQY+ybRV40eswbvENFFbFimhihJGDwDMIvVquvZK62MVokiQfbeU2E5hn7bCwAkPQXdZxQAAu+Wyf/8SYOiiKCS1Ffbqqo3nddaCYgilabZaIjnixVW9ZMHs9W2PGvatxv/7mzvbF7erS/rxcLlg83dbXH5WgscP/nmt9Xkcrltdfab3351vD/Yy9OHVg8nIxPd2c1GR9DFICkGbdN1YTMoJh3ZLIW8bjfbJrAYFAHQCoMPSdoPLoaZ9cHJ47pusHNEOjJbkymbDAcDYG6aCik1ypJSm9rVdS271xkAILL0fbdforAwIAbh1NrYucCxrzm7PA0RZu7LBbNoo5xIGzkYypUKWnVBQISAEmVi9CGIMhoICVVd14eHM4AoHOmNcR6AoHclMYsQqf574t1DgV3WgVISvCI6v7pdl21hE1Qqz3NkbEIYjcfAsW1bIHW22H5p6fc+hm557k1M0rzbbi9v5w+iNMF3i9vp3uyTL17neXpxdnFYvP34weFP8flnn3+eWT0xRg+Ge9PhpCg266WMkri6GyTH3HCRGGudAhtFNmUZmJnRd857H0KMMegWi41IMppt6yq3SVEMmGjb+Sg8HO3XdbnpSo5yfvaqrqo+FGbnEO3HKLj/BTFR2vmwN8hcCJ13b0YFvA8aEBGOURH1fxSZ2ygWZWC0C66HQ4mmminVmgEJ0SgVQ4jea6MFovQbx/tElf67QKTeJwPMgIT3wwVIBBHvnQ/xi9d3SxcMY2Ip0zRK0lerbd2WB6NRnqaJMTfr9YtbsMYe59CuSrTDi/nitnQ381ubZ+PjE5ubR4/2v7xcBW5ffvXMi1qV221ksrZq44Mie7B/fHE1z6yaakUKSEJAU7XrcWq/nJfi2rYuO+dijCVK8M57pxTqxaYCERQmkKopowSjQCGSQCpkMxWDuV0trs+/Dt4ZbXofHO/uNwVhwZ6Bj8JKtCCwpIpqongf/NnTZ30HBgBSikC0Uo4jYDqv23emw9p7FmFgDZga0lpSogogIlhrg9vdFo0YQeJulYn9O6B2AjlhoAiCAAwQ+58msXG7Wi6XX17NAUkEAsOmDVkKaZI0vru8XS6S5Mn+bDgYPP7mO/PlYnx8crXZLu7my9UqS5LPf/UpJFoPZ9lbTz58/KjZ1s+vSrt5/d47bz08Okja8Or84l987/0Octd1g3wQXFsu12aAcV9JDNe3NyOMzdW89JFFBNGmiUqSQuchxHy6p31bK8AuBiW+MNq5xiYmTW2I7LrWWivEwuK6ViSGiNQHtglKnxMDACi7oBKBiNSFYPSO5u81/vc03I7RjDH0MwEEIcCO4aZuT8eD81VVGNUxj43uBEaJTZRSiSXSIoBx9/zg/sv2/jAiEonQp7LLTiYtwtDvE4RJawF6kKdXmyYiKCIXZFu1wYfWB5HYBbd1/mBv+vL5y+rxrJgUyWByfluvAz08mj07Xzz9+uzgrXdenr1694Nv7z84WJ4/f/X6fFok3/rGw7/4vz+ZzmY3N5ujdx9HwIvzs5OjB5QkidHr7bowmslE0vvHpwfDSYzc+DAa76VJohA2ZTPc29MGKcbIQNYaIkq0CqFd3y05uEDaJIP92YwQyvVGdvxYz+UIIfIOh/StASNHIepcyJI+oJIRBVH1QLX3Vfc1ySgDwEQUJSaablv/aKpH48FEEyFflW6SIGl6e39skzTKm/J+P3lIELEA+g0d0j8KFAZ+kzq3MxZziL/8zTNA/dHeeO15JcqkuQudMQZRMXJqbdPWm0U8mRSRzWA0eN1WyeETWi+CjzTe/9mnz7717W+no+lqfjku1NYhRt5GOBym706zp6vN0Tu/X+TZ/Op1kqartmm0HmdJYhTadLh/sl8Yt+pUkgoLdq0xeQjQBFc3XXV+Tl3XBeayaYhMFGyacrG4Wa43tcemwxCwrLuuqlzXEuwGKKQe+jMCECIAyQ4dSWQO9xRFX392JMUbZAKglQ4h9KlZDJAaHZg3gY9moxbUODUf7ecPB2kmoa3bwijXdgCkbEIAwHx/tnhXaiTspBR9L8JdqJAA9yK87Wb9xaurr1b115WfN84qAxyBKLJoEAUQWYZFTgSCeHd5Rt4tl5vPf/WrVMFytX7ryfG4SH/26eejIv/67Pytk4OZoTVlXRdvz1+/e3pAXQUhTEZTZhjmuRYyxpaBUsCpNbPBIEkzQrm7ubk4v7i5nL94/sWL509vLs+2i/ny6lL3TmgF4Nu2LDcK2Hdd0zilHQBsl9fdIG/asq23gH1AA+9qel9Ydv/j+2LE7IkRjFXkdzMw9HtyAemvSo0xoIDSikQISISLJPGCveLwVQWnBkYD02qNMaiuS/KCkPp3eWfdBiACAO43m/fJoYL9UCK7sxpjiMFdzm8/P78ZjqZ35dbaTGeFjz50DkB6SFpkmTZ2MExX5batV9dPv7ip5ebuJnEKkmL71dnJ6SNXudr5/eHo4uXl24+PP/v0Vy+e+71JOtt/8MPf//1y9uDixfPguquru9O3HlHbOpvOyyrJ8pGOzWY9DtXr+flN3XrvlUmMtp1WSuvoAy1vz5bzF/XNy8XlV1wvMFYgrBJtUzso8v2jw72HJ8PZfgzMHPspDHZynl1wiezqO/SUJwtvvR+nqYgg9kkaO+zY51AKQB8wg0AigKKG1iLAw4cPKwbPfN54FynLCyyKpm2GRhGyEnauYxYOAUVo9zZQ7O3Bb8CWAPR2pxiAPYfu+dnlfFu2ba2FiBQg5EmilEIAIYXGbMrqxcX1q6tbcW40GS227fO79s6rgPrsrlwuNpeXF4fIX/7iUyCuV8uS1aNvfuvzLz9ftn60N/v4/ZN///6jvf0BZulgPGxdZ2xqlBZWTRcvVk27XLx8dd51znBg75ljjDF0wTddaFs9nk2NNsF5MDZJk2ExOMmGHfO23A6LwXgyJNTbunM+Eqhejywi1BNn96Gd99AcFAEiVs4nygzSZFN3PU+niAjJxwCImvqMK1FKAVHlOzZJxjAZDN46mD59deU5NtebH7wzyZWqYogYSLgXAnEMSEm/iAdgQFGwA0MgfQISc4wcA0tg5rZpP395zYBtVad5EUkCe6NSRSZ4T0pbbR200Tut9aBIyuVmG9Wz80szHlYBrjbt23t6kGe/Pp/nTXz4zQ9/8J3v3Pz4/+WJHk9Hy82atS5OHmXp8HCeKcecDVofFsvFQZIq13g9E6U2LgyH6euLywZVcK7cLEKIHCMRMEc6evTe4cO3H7794fTg9ODoiSr2yQ50UjRRe6ZV2VwvNrerrfddjzR2Bb0vuPdRDgoVEQFijBBjRMR1245sohHvoQvGGAFAKer3+EhQpIlIZIAQfNm15+evc/Ct9yHGq6r58dfnAJJa4yK4tgVgBSA+SIz3MU5ESPcjV9+A4ptj2rMmy7vV88s7UioqCsGzC64Lzkfng5DWxiZFkWa5MYZbH+taguNiOJnNyrKqXZwNi2UToOOfv3h9sV794rPPbxbzH/7BH5GrBXW7KX/9Dz+xno8nxQ9/78O9odof2Mlk2AqWdQPOhRBNmrWKoCvX1bJqa2MU+67raqUpydJ8OtFOdCTMdRJqVzVOW32zvHPed103bxvAKIFfPfsydF0/+ff9tt8y0n2oHghwjCKCgEKsiESk8nGUJau6t3zdswUARmuOEQCn40GzlioERSrPsvmm2RskRlFgboJf1vXr5eZbp4fFsIgaRcDHsEtrFRAWRGCIwExEzCwce3pCevwpwCF++fJ8vtoioAA2ISrxmTYxusFoVNVlokw+HNrpZH7+svMuBrHD46dlmG82gWPZdkbb2+1KadDDQds08+vrn3zx6r8+evhn//k/ecGf//KzAPKLT7949vOfvPvBB//2w8e/ndcU1cHsaNP4WmTY1lGpUZEv69HBw0c163wwzA9PEXWe56gUIOq722trdYOw3G6j5/3pKDBvNlutVGBgEQnd5m4u8XcYXERCDFpbImDuzz7viBlBAOqTTergMkSt+jwZFBAiRUg9jwksvmp7OQzH6J3vjAYyRhFHiQwu8s1qPZ8MjnzgwIm11Fv8AVBT75wFiaQUAjJDb9QQYeHYU0Icwxdn8y6IUsjMWlsWERSlzWg6AQ5t21rCLMvzJKmbUlG2uJr/9W9vhXCY5Z3nyrcXy63NJ+8eHrxal6vOPn1+/Rfwoz/94Xf+9D/88fDgyAX8+uX1J89ffWcJ3/nw7bf2BhWlLkjbdsM0leCzYrA3PG1YQauGJrFpmiuSiIjoOhe7TvuqJGdbDk3nQHC53g6HQ6VV8GGQ5Z7jpmu6rmPZEV/33sV/iiyxD1SCnaBqZ3wEkY6jRuQddiKjVIwRlWaJCMIhOBEFIIIxeJGsrlyibdlWDChAQdTtqtTGGILOeW1QOAiHGILRFoARSfB+P9rDgBhgR87Gpm1fXNz2pBEze9/lxTCG2HYdAwmZwHVZNTGyItRIY6tvyjbNs7Jpl9tqfzbmEFyUtnWQpoPUnl1cRMAudFSt/8uf/OG//vj7n726bsr2ycoUk9G6jqshvWXjpbLr4DbrMrHp4eFeXHevzpeaEmbYLJYxRtc2ITjvXAxRNy4axUrbSVp4CSTQBQFUSWaMsV3TOB9d1wDHfzrQiojEoLQJHEEYhaTP/id+U5KVUi6IVbsMUAIgEKtUiMGzH6SJF4kxKCJhiYibuhylBkU8M6JoTSGGwNLGsD/bG+SGtNJKaWOUMqjNbg2xexkYJPajST+AIcB8fvdqvjBW9fshQAJUymir9N3FuS1GgIqZ67rmplVW7yXqF5elSMLCAaRRxpIVXM8X84dHJ01dPT45rrpucX33s7oy8jd/9ud//q23j8zV08GHTz5btbxeYW7WhIPE5eOxxJhl9mCU/+I3n92+fiHKdKS8DwhCRAIikbUIKcI2BGvsIC8yk4r3zWbTrDe668rlvFrdkKvqciO7cZfg/jcsIsB9shUgI+5aYx/53/tVdsljhIpQK6WJsjSNJCA8LXLH3PogQC5GZG5cKNI0L3JmZhaj9Q4sRg6uY9RJD4RYel5vl1Cz2+pH4cg7fWp//OSrF5erqmOOiGiSdDabgcIYJRkOk+kUFRPhdrNqm8qDPMisd+6y5M4zAjofV1U1PjgYFIOy6TrXONAVmG++82hvb+SF/u6Xz/72739kUE4/+ODJkw8+eni4CawFJS8idHvixNjUGIV6EyVEZ5GJMC8y0gqROHBwXVNudbm+C97Xq7s0SQL7ptqWVVlV1aXWOk1tkhVZ1kMdZrmnHiMAsjBzJNL37G8/oe7qDyEy30d+glhSBvu8yOB8sKT60LHUml5Y6pm11t51TdOICAIxx6LI0zxTpFzwQSAIhxgTJEISIEQSIZaIwsBRmHehuved4HK+6CLbxCKh65oK8cHJcZINssFgtLdHMdzNb86++qrtmtP90dQvr0vnQSIHYVGIKdGm3Lxz+vBHv326bdrToxOb5jdl971HR8tNeXbd/vbFfPHqf/7wDz+eDtO6XM80zMv2WNBrSWVFBvNButk2opLGuYFRBVFZdq7ZdE3ruib4JoSgb65eG2PUbJKbZDKc7h8db+v6brFMTFoUxWA8abvWR+5pzX/KKAD062K145wJdyMacv83udcOCQoAKYUKQwjsGQUybRvnBdga0/qgAboQB1kWWYIwEQlEjrFpmmwyNJqsMYRgs5yjU0oDKCIliIAKJEjcpXtQn4AGAiAxhPm67HuDtTYGiSAM9ODBoUqzh0fH2maHJ4+NSi6/fjpN9FSbZ6u6Dz8WIAZEwtfXN4mmxKrttjqDy1OTuHzwyfPzbzw6ffzBUAf533/1t2iTJ08eHR0e/tFwPK+gFRt8tRH1jVkRO18lbjIbNV31an1zMJ3UdbdsKmsSSlU+2jM20Y8/+r3U2PFkPBmOsyIPrMZtfXDaAWgCzNL0en7umuZ+4wS/mwF6bCNARDFGkdgTk/1KHYlAAAVYpH9ESuvWe4tEhIM0c8Hn1raBg7Am1Ua+LavDIgtBlNJKCSk1GRSz3OZFooyJXQ08AOkV6D0rBdJnfHOUEEm8kN5lHyN471dVA4jM3LUuzYpsOEzSwgfem+1ZrZMsHaT2yaO34ubabC86LTLefzyWi8Vm0zlA3HaubsLoaO+0GLy+vGlDUIPCDIdhW3miwljDmyIz/+Mff/nf9vcGg223qb0nIL3xPMqmQ4K22lQqsyZ58uTt1XZrhqM9UEfpAEn3eyyOoJ+8835TNdYkJh8zYhs6YSSgpqkMmXVdPf/s19VqySJ95enPQF9pmSVGVgrvl1D8Zlnfz1+9fkojSoxd5wgxMKfWGiWui4qJBQTIEtk86dq6C7H1XWTOtMqSLM2yy8p935h8NAQloLSxCXCAvvGI9NGiHL1IIBD1JuQPwPmw3FaAoJUhVECUF+MiL4rhYDyb+BASEJsPMTXD6eSQ53/3YlE51oCsbGpUdBwjTEdDZrlbbZU2ymahdehCUYxqB53Ep//4kw+fvGUXy7/65Ol//IP8w7cOuuvN8+vF6d740SSp64YKrTVKTCZHj5N9FECttCC2VVVuNlW5jcHpxfy6bb1Wajm/cJ7btvbR52nufGdUGnx78fJZ05b9EpDvBT/3zEvfBu7j/PsAfwBA5J1yCxDJahNiDDFooj6fBlEUMvVUtkglPGNJkkSEjdZNUytSddu2bTOcjsFkLFyYxCRJkma7g4gY7+VgIQaJXhMBsQISESRcbjZ321ohMohSiEQmMdO9qUmS3JpiOi3LMrNq/GC/fcES3EXpckNIysU4yk3VOqUViLy+nDuEJM0no7E2OrW0qbbjo4Pr588+++yzV6+HH3/vm+9/9MHff3EeN8sP3n7A9PDF5e2yvXp8cnw6MKtQGj2uyu786ioKH+/NFrfXt3e3zN77kKSJfvX1c2bRCHW1ioERY5YX2eE73sdyfScQlndzElBEPjD87uOHN296jMFoKyCAIAI+BKWUIgUCikCRcAwuBFK9Ap5TbSKL1tREL0iGqPFhWW7eO3pgSGynUmNK74eoN5vtyWxYN21uDbPFnS5aheDRJL2htZdBcAxCqABYgIgU0XK9rX3U2iitEZCdIwAf49HsQXARBuZ4NnGMrnVjrpagtbWRQ//AjDJFlqUay6YR3LlC6vW6zAe1h8lsioRX84vI4lz81YurvSddmtovXYI328MHQzcefr1pVOVRlsMZxbSI7eb24oUihWF7MBmcn61JaWtMkecaemyjlEkLFSMiJWkaJXaRu64Lvt3c3gHvbOf9UuSfy0woxmC1IGKIEUkZYxAEASNzkMgMUQEgakAfoiIaGK2EI5EPAYEQuHNNhdR6zxhi8KlWIUYfY2bM67PLNuK//sF3R9N9skZC0NNZ17Sql34D+xCazktwSpMV1IAaCZjXm7ZpOptmIcbATin18ulvbs9f3Lx8/t4HH63nl6PRCJSm1dwE/2zFRBiCAKIW7i/rVcJRomMGkWq7iWmWVuWirA5Ojg8fzOqGbZppwnwwefrsxbffexJd95tzd3Sz/u67TwLlN9t6bsfQNIOhis4ricF1N1fV+koy4sgeQ4il0zodKYxIoNOBbypmaZq2aW+8997V5WZVbVaReyzzuxMA97pPBFBKcQykDeBOitvLdUWECHzgRClEYhCDmGjSKK1jJxEQDGFwThhGw3wwm25uzlnEe69RpokhigByefn6b/52HeXfDPaPAnvTOkWagQJHF7h2oW47ic6wjqiNeC2caFpXFQB1znVtGzkopZi5abbLxaLaVnerm4PxeNs0P9jTm7J5eVsGYNIqgEq1qduKAdko30cgEDKLzgoWabcbheb8+Vcne9l6OXCBg+vKcvOPP/1khFjsTW8ne+Xqlx98/Ae5HtaCECNwTDI1LUy1bdbbbUdkEp0mFlG5zv9/9mgQgukfeC4AAAAASUVORK5CYII=\n",
                  "text/plain": "<PIL.Image.Image image mode=RGB size=128x121 at 0x7FE00C246850>"
                },
                "metadata": {}
              }
            ],
            "_view_module": "@jupyter-widgets/output",
            "_model_module_version": "1.0.0",
            "_view_count": null,
            "_view_module_version": "1.0.0",
            "layout": "IPY_MODEL_807ab17613da4dc086aba68ac359ea36",
            "_model_module": "@jupyter-widgets/output"
          }
        },
        "29be65c2e0e64965b21ec217b81def58": {
          "model_module": "@jupyter-widgets/controls",
          "model_name": "LabelModel",
          "model_module_version": "1.5.0",
          "state": {
            "_view_name": "LabelView",
            "style": "IPY_MODEL_2309f253f5c94dc4b6551cb0928fe359",
            "_dom_classes": [],
            "description": "",
            "_model_name": "LabelModel",
            "placeholder": "​",
            "_view_module": "@jupyter-widgets/controls",
            "_model_module_version": "1.5.0",
            "value": "I think it is : with_mask; Probability: 0.9947",
            "_view_count": null,
            "_view_module_version": "1.5.0",
            "description_tooltip": null,
            "_model_module": "@jupyter-widgets/controls",
            "layout": "IPY_MODEL_f7542470f37c4b468483802444980f75"
          }
        },
        "388fb28d769a4b94a5bf3085cb5556a6": {
          "model_module": "@jupyter-widgets/controls",
          "model_name": "DescriptionStyleModel",
          "model_module_version": "1.5.0",
          "state": {
            "_view_name": "StyleView",
            "_model_name": "DescriptionStyleModel",
            "description_width": "",
            "_view_module": "@jupyter-widgets/base",
            "_model_module_version": "1.5.0",
            "_view_count": null,
            "_view_module_version": "1.2.0",
            "_model_module": "@jupyter-widgets/controls"
          }
        },
        "44c3433b3a37496cb04996771ced2e64": {
          "model_module": "@jupyter-widgets/base",
          "model_name": "LayoutModel",
          "model_module_version": "1.2.0",
          "state": {
            "_view_name": "LayoutView",
            "grid_template_rows": null,
            "right": null,
            "justify_content": null,
            "_view_module": "@jupyter-widgets/base",
            "overflow": null,
            "_model_module_version": "1.2.0",
            "_view_count": null,
            "flex_flow": null,
            "width": null,
            "min_width": null,
            "border": null,
            "align_items": null,
            "bottom": null,
            "_model_module": "@jupyter-widgets/base",
            "top": null,
            "grid_column": null,
            "overflow_y": null,
            "overflow_x": null,
            "grid_auto_flow": null,
            "grid_area": null,
            "grid_template_columns": null,
            "flex": null,
            "_model_name": "LayoutModel",
            "justify_items": null,
            "grid_row": null,
            "max_height": null,
            "align_content": null,
            "visibility": null,
            "align_self": null,
            "height": null,
            "min_height": null,
            "padding": null,
            "grid_auto_rows": null,
            "grid_gap": null,
            "max_width": null,
            "order": null,
            "_view_module_version": "1.2.0",
            "grid_template_areas": null,
            "object_position": null,
            "object_fit": null,
            "grid_auto_columns": null,
            "margin": null,
            "display": null,
            "left": null
          }
        },
        "a019fd3279ce4e03aa03fb076fb11668": {
          "model_module": "@jupyter-widgets/controls",
          "model_name": "ButtonStyleModel",
          "model_module_version": "1.5.0",
          "state": {
            "_view_name": "StyleView",
            "_model_name": "ButtonStyleModel",
            "_view_module": "@jupyter-widgets/base",
            "_model_module_version": "1.5.0",
            "_view_count": null,
            "button_color": null,
            "font_weight": "",
            "_view_module_version": "1.2.0",
            "_model_module": "@jupyter-widgets/controls"
          }
        },
        "3711a9b59214476f8e0a342e80a791b3": {
          "model_module": "@jupyter-widgets/base",
          "model_name": "LayoutModel",
          "model_module_version": "1.2.0",
          "state": {
            "_view_name": "LayoutView",
            "grid_template_rows": null,
            "right": null,
            "justify_content": null,
            "_view_module": "@jupyter-widgets/base",
            "overflow": null,
            "_model_module_version": "1.2.0",
            "_view_count": null,
            "flex_flow": null,
            "width": null,
            "min_width": null,
            "border": null,
            "align_items": null,
            "bottom": null,
            "_model_module": "@jupyter-widgets/base",
            "top": null,
            "grid_column": null,
            "overflow_y": null,
            "overflow_x": null,
            "grid_auto_flow": null,
            "grid_area": null,
            "grid_template_columns": null,
            "flex": null,
            "_model_name": "LayoutModel",
            "justify_items": null,
            "grid_row": null,
            "max_height": null,
            "align_content": null,
            "visibility": null,
            "align_self": null,
            "height": null,
            "min_height": null,
            "padding": null,
            "grid_auto_rows": null,
            "grid_gap": null,
            "max_width": null,
            "order": null,
            "_view_module_version": "1.2.0",
            "grid_template_areas": null,
            "object_position": null,
            "object_fit": null,
            "grid_auto_columns": null,
            "margin": null,
            "display": null,
            "left": null
          }
        },
        "2309f253f5c94dc4b6551cb0928fe359": {
          "model_module": "@jupyter-widgets/controls",
          "model_name": "DescriptionStyleModel",
          "model_module_version": "1.5.0",
          "state": {
            "_view_name": "StyleView",
            "_model_name": "DescriptionStyleModel",
            "description_width": "",
            "_view_module": "@jupyter-widgets/base",
            "_model_module_version": "1.5.0",
            "_view_count": null,
            "_view_module_version": "1.2.0",
            "_model_module": "@jupyter-widgets/controls"
          }
        },
        "f7542470f37c4b468483802444980f75": {
          "model_module": "@jupyter-widgets/base",
          "model_name": "LayoutModel",
          "model_module_version": "1.2.0",
          "state": {
            "_view_name": "LayoutView",
            "grid_template_rows": null,
            "right": null,
            "justify_content": null,
            "_view_module": "@jupyter-widgets/base",
            "overflow": null,
            "_model_module_version": "1.2.0",
            "_view_count": null,
            "flex_flow": null,
            "width": null,
            "min_width": null,
            "border": null,
            "align_items": null,
            "bottom": null,
            "_model_module": "@jupyter-widgets/base",
            "top": null,
            "grid_column": null,
            "overflow_y": null,
            "overflow_x": null,
            "grid_auto_flow": null,
            "grid_area": null,
            "grid_template_columns": null,
            "flex": null,
            "_model_name": "LayoutModel",
            "justify_items": null,
            "grid_row": null,
            "max_height": null,
            "align_content": null,
            "visibility": null,
            "align_self": null,
            "height": null,
            "min_height": null,
            "padding": null,
            "grid_auto_rows": null,
            "grid_gap": null,
            "max_width": null,
            "order": null,
            "_view_module_version": "1.2.0",
            "grid_template_areas": null,
            "object_position": null,
            "object_fit": null,
            "grid_auto_columns": null,
            "margin": null,
            "display": null,
            "left": null
          }
        },
        "807ab17613da4dc086aba68ac359ea36": {
          "model_module": "@jupyter-widgets/base",
          "model_name": "LayoutModel",
          "model_module_version": "1.2.0",
          "state": {
            "_view_name": "LayoutView",
            "grid_template_rows": null,
            "right": null,
            "justify_content": null,
            "_view_module": "@jupyter-widgets/base",
            "overflow": null,
            "_model_module_version": "1.2.0",
            "_view_count": null,
            "flex_flow": null,
            "width": null,
            "min_width": null,
            "border": null,
            "align_items": null,
            "bottom": null,
            "_model_module": "@jupyter-widgets/base",
            "top": null,
            "grid_column": null,
            "overflow_y": null,
            "overflow_x": null,
            "grid_auto_flow": null,
            "grid_area": null,
            "grid_template_columns": null,
            "flex": null,
            "_model_name": "LayoutModel",
            "justify_items": null,
            "grid_row": null,
            "max_height": null,
            "align_content": null,
            "visibility": null,
            "align_self": null,
            "height": null,
            "min_height": null,
            "padding": null,
            "grid_auto_rows": null,
            "grid_gap": null,
            "max_width": null,
            "order": null,
            "_view_module_version": "1.2.0",
            "grid_template_areas": null,
            "object_position": null,
            "object_fit": null,
            "grid_auto_columns": null,
            "margin": null,
            "display": null,
            "left": null
          }
        }
      }
    },
    "accelerator": "GPU"
  },
  "cells": [
    {
      "cell_type": "code",
      "metadata": {
        "id": "NMHj6O7qJyk9",
        "colab": {
          "base_uri": "https://localhost:8080/"
        },
        "outputId": "98d998ac-e841-4165-b2c2-49b8a23b78c7"
      },
      "source": [
        "!pip install fastai --upgrade -q\n"
      ],
      "execution_count": 1,
      "outputs": [
        {
          "output_type": "stream",
          "name": "stdout",
          "text": [
            "\u001b[K     |████████████████████████████████| 186 kB 2.3 MB/s \n",
            "\u001b[K     |████████████████████████████████| 56 kB 3.4 MB/s \n",
            "\u001b[?25h"
          ]
        }
      ]
    },
    {
      "cell_type": "code",
      "metadata": {
        "id": "Amwjp1c3HVFN"
      },
      "source": [
        "from fastai.vision.all import *\n",
        "import requests\n",
        "from fastai.vision.widgets import *"
      ],
      "execution_count": 2,
      "outputs": []
    },
    {
      "cell_type": "code",
      "metadata": {
        "id": "TybSHaYUTNOj"
      },
      "source": [
        "path = Path()\n",
        "learn_inf= load_learner(path/'Fastaimodel.pkl', cpu=True)\n"
      ],
      "execution_count": 7,
      "outputs": []
    },
    {
      "cell_type": "code",
      "metadata": {
        "id": "WHGBZW0aHTWk"
      },
      "source": [
        ""
      ],
      "execution_count": null,
      "outputs": []
    },
    {
      "cell_type": "markdown",
      "metadata": {
        "id": "WZ3_U16fLmol"
      },
      "source": [
        "# Mask Classification Website :\n",
        "  \n",
        "\n",
        "1.   Mask incorrect\n",
        "2.   With Mask\n",
        "3.   Without Mask\n",
        "\n",
        "\n",
        "\n"
      ]
    },
    {
      "cell_type": "code",
      "metadata": {
        "id": "Q7M4HQXicULZ"
      },
      "source": [
        "btn_upload = widgets.FileUpload()\n",
        "out_pl = widgets.Output()\n",
        "lbl_pred= widgets.Label()"
      ],
      "execution_count": 8,
      "outputs": []
    },
    {
      "cell_type": "code",
      "metadata": {
        "id": "8SVpP60Vc7oQ"
      },
      "source": [
        "def on_click_classify(change):\n",
        "  img= PILImage.create(btn_upload.data[-1])\n",
        "  out_pl.clear_output()\n",
        "  with out_pl: display(img.to_thumb(128,128))\n",
        "  pred,pred_idx,probs= learn_inf.predict(img)\n",
        "  lbl_pred.value= f'I think it is : {pred}; Probability: {probs[pred_idx]:.04f}'\n"
      ],
      "execution_count": 9,
      "outputs": []
    },
    {
      "cell_type": "code",
      "metadata": {
        "id": "lUDaNExqdIYJ"
      },
      "source": [
        "btn_upload.observe(on_click_classify, names=['data'])"
      ],
      "execution_count": 10,
      "outputs": []
    },
    {
      "cell_type": "code",
      "metadata": {
        "colab": {
          "base_uri": "https://localhost:8080/",
          "height": 289,
          "referenced_widgets": [
            "416be5e7912e4fcfb6f08381a029a365",
            "9bca95a414194af695336a5e6c04842d",
            "a54e0ecec02443d4bd6b3a3f78f28352",
            "3488d5a55a844de0b01e52eb2e814f11",
            "db897611cc874de9977847fc0a8cebfc",
            "29be65c2e0e64965b21ec217b81def58",
            "388fb28d769a4b94a5bf3085cb5556a6",
            "44c3433b3a37496cb04996771ced2e64",
            "a019fd3279ce4e03aa03fb076fb11668",
            "3711a9b59214476f8e0a342e80a791b3",
            "2309f253f5c94dc4b6551cb0928fe359",
            "f7542470f37c4b468483802444980f75",
            "807ab17613da4dc086aba68ac359ea36"
          ]
        },
        "id": "TeC1_XWLdSB2",
        "outputId": "679ba25f-8ea7-47b1-ebc4-f75007dcc5c1"
      },
      "source": [
        "display(VBox([widgets.Label('Uplode your Picture!'), btn_upload, out_pl, lbl_pred]))"
      ],
      "execution_count": 11,
      "outputs": [
        {
          "output_type": "display_data",
          "data": {
            "application/vnd.jupyter.widget-view+json": {
              "model_id": "416be5e7912e4fcfb6f08381a029a365",
              "version_minor": 0,
              "version_major": 2
            },
            "text/plain": [
              "VBox(children=(Label(value='Uplode your Picture!'), FileUpload(value={}, description='Upload'), Output(), Labe…"
            ]
          },
          "metadata": {}
        },
        {
          "output_type": "display_data",
          "data": {
            "text/html": [
              ""
            ],
            "text/plain": [
              "<IPython.core.display.HTML object>"
            ]
          },
          "metadata": {}
        },
        {
          "output_type": "stream",
          "name": "stderr",
          "text": [
            "/usr/local/lib/python3.7/dist-packages/torch/nn/functional.py:718: UserWarning: Named tensors and all their associated APIs are an experimental feature and subject to change. Please do not use them for anything important until they are released as stable. (Triggered internally at  /pytorch/c10/core/TensorImpl.h:1156.)\n",
            "  return torch.max_pool2d(input, kernel_size, stride, padding, dilation, ceil_mode)\n"
          ]
        }
      ]
    },
    {
      "cell_type": "code",
      "metadata": {
        "id": "r2bIDSLkdkm9"
      },
      "source": [
        ""
      ],
      "execution_count": null,
      "outputs": []
    }
  ]
}