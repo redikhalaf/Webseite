{
  "nbformat": 4,
  "nbformat_minor": 0,
  "metadata": {
    "colab": {
      "name": "ClassiferColab.ipynb",
      "provenance": [],
      "collapsed_sections": []
    },
    "kernelspec": {
      "name": "python3",
      "display_name": "Python 3"
    },
    "language_info": {
      "name": "python"
    },
    "widgets": {
      "application/vnd.jupyter.widget-state+json": {
        "e444ccb854014bfe885176ccf4045b20": {
          "model_module": "@jupyter-widgets/controls",
          "model_name": "VBoxModel",
          "state": {
            "_view_name": "VBoxView",
            "_dom_classes": [],
            "_model_name": "VBoxModel",
            "_view_module": "@jupyter-widgets/controls",
            "_model_module_version": "1.5.0",
            "_view_count": null,
            "_view_module_version": "1.5.0",
            "box_style": "",
            "layout": "IPY_MODEL_143e8234dd3a4c81b718e35299646947",
            "_model_module": "@jupyter-widgets/controls",
            "children": [
              "IPY_MODEL_dfd7c11d1658493db5372e7d491df1a8",
              "IPY_MODEL_ca724337a22a40aeaae0b1ca806ccde5",
              "IPY_MODEL_09a94f90aa7b4a1c809e73a2948b7f05",
              "IPY_MODEL_1c22218e26e44caab50665def315a14d"
            ]
          }
        },
        "143e8234dd3a4c81b718e35299646947": {
          "model_module": "@jupyter-widgets/base",
          "model_name": "LayoutModel",
          "state": {
            "_view_name": "LayoutView",
            "grid_template_rows": null,
            "right": null,
            "justify_content": null,
            "_view_module": "@jupyter-widgets/base",
            "overflow": null,
            "_model_module_version": "1.2.0",
            "_view_count": null,
            "flex_flow": null,
            "width": null,
            "min_width": null,
            "border": null,
            "align_items": null,
            "bottom": null,
            "_model_module": "@jupyter-widgets/base",
            "top": null,
            "grid_column": null,
            "overflow_y": null,
            "overflow_x": null,
            "grid_auto_flow": null,
            "grid_area": null,
            "grid_template_columns": null,
            "flex": null,
            "_model_name": "LayoutModel",
            "justify_items": null,
            "grid_row": null,
            "max_height": null,
            "align_content": null,
            "visibility": null,
            "align_self": null,
            "height": null,
            "min_height": null,
            "padding": null,
            "grid_auto_rows": null,
            "grid_gap": null,
            "max_width": null,
            "order": null,
            "_view_module_version": "1.2.0",
            "grid_template_areas": null,
            "object_position": null,
            "object_fit": null,
            "grid_auto_columns": null,
            "margin": null,
            "display": null,
            "left": null
          }
        },
        "dfd7c11d1658493db5372e7d491df1a8": {
          "model_module": "@jupyter-widgets/controls",
          "model_name": "LabelModel",
          "state": {
            "_view_name": "LabelView",
            "style": "IPY_MODEL_5a65712d8cb0415eb42aa61bd2ea41e4",
            "_dom_classes": [],
            "description": "",
            "_model_name": "LabelModel",
            "placeholder": "​",
            "_view_module": "@jupyter-widgets/controls",
            "_model_module_version": "1.5.0",
            "value": "Select your Picture!",
            "_view_count": null,
            "_view_module_version": "1.5.0",
            "description_tooltip": null,
            "_model_module": "@jupyter-widgets/controls",
            "layout": "IPY_MODEL_efde40e0575c48ed88dcaaeeb8a38945"
          }
        },
        "ca724337a22a40aeaae0b1ca806ccde5": {
          "model_module": "@jupyter-widgets/controls",
          "model_name": "FileUploadModel",
          "state": {
            "_view_name": "FileUploadView",
            "_counter": 1,
            "style": "IPY_MODEL_428fc33decb1414781c8010c149c78c1",
            "_dom_classes": [],
            "description": "Upload",
            "multiple": false,
            "_model_name": "FileUploadModel",
            "data": [
              null
            ],
            "button_style": "",
            "_view_module": "@jupyter-widgets/controls",
            "_model_module_version": "1.5.0",
            "accept": "",
            "_view_count": null,
            "disabled": false,
            "_view_module_version": "1.5.0",
            "error": "",
            "description_tooltip": null,
            "metadata": [
              {
                "name": "1.jpeg",
                "type": "image/jpeg",
                "size": 41490,
                "lastModified": 1619109884623
              }
            ],
            "_model_module": "@jupyter-widgets/controls",
            "layout": "IPY_MODEL_a4187812f79e47bbbfa9adbae0354127",
            "icon": "upload"
          }
        },
        "09a94f90aa7b4a1c809e73a2948b7f05": {
          "model_module": "@jupyter-widgets/output",
          "model_name": "OutputModel",
          "state": {
            "_view_name": "OutputView",
            "msg_id": "",
            "_dom_classes": [],
            "_model_name": "OutputModel",
            "outputs": [
              {
                "output_type": "display_data",
                "metadata": {
                  "tags": []
                },
                "image/png": "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\n",
                "text/plain": "<PIL.Image.Image image mode=RGB size=128x82 at 0x7F3D73D83A10>"
              }
            ],
            "_view_module": "@jupyter-widgets/output",
            "_model_module_version": "1.0.0",
            "_view_count": null,
            "_view_module_version": "1.0.0",
            "layout": "IPY_MODEL_ad202baefae0423eb0eaaec012aefcfa",
            "_model_module": "@jupyter-widgets/output"
          }
        },
        "1c22218e26e44caab50665def315a14d": {
          "model_module": "@jupyter-widgets/controls",
          "model_name": "LabelModel",
          "state": {
            "_view_name": "LabelView",
            "style": "IPY_MODEL_d89534be79314314877f542a39cf51bc",
            "_dom_classes": [],
            "description": "",
            "_model_name": "LabelModel",
            "placeholder": "​",
            "_view_module": "@jupyter-widgets/controls",
            "_model_module_version": "1.5.0",
            "value": "Prediction: mask_weared_incorrect; Probability: 1.0000",
            "_view_count": null,
            "_view_module_version": "1.5.0",
            "description_tooltip": null,
            "_model_module": "@jupyter-widgets/controls",
            "layout": "IPY_MODEL_b448b5c73ab948d589029fe3f8331337"
          }
        },
        "5a65712d8cb0415eb42aa61bd2ea41e4": {
          "model_module": "@jupyter-widgets/controls",
          "model_name": "DescriptionStyleModel",
          "state": {
            "_view_name": "StyleView",
            "_model_name": "DescriptionStyleModel",
            "description_width": "",
            "_view_module": "@jupyter-widgets/base",
            "_model_module_version": "1.5.0",
            "_view_count": null,
            "_view_module_version": "1.2.0",
            "_model_module": "@jupyter-widgets/controls"
          }
        },
        "efde40e0575c48ed88dcaaeeb8a38945": {
          "model_module": "@jupyter-widgets/base",
          "model_name": "LayoutModel",
          "state": {
            "_view_name": "LayoutView",
            "grid_template_rows": null,
            "right": null,
            "justify_content": null,
            "_view_module": "@jupyter-widgets/base",
            "overflow": null,
            "_model_module_version": "1.2.0",
            "_view_count": null,
            "flex_flow": null,
            "width": null,
            "min_width": null,
            "border": null,
            "align_items": null,
            "bottom": null,
            "_model_module": "@jupyter-widgets/base",
            "top": null,
            "grid_column": null,
            "overflow_y": null,
            "overflow_x": null,
            "grid_auto_flow": null,
            "grid_area": null,
            "grid_template_columns": null,
            "flex": null,
            "_model_name": "LayoutModel",
            "justify_items": null,
            "grid_row": null,
            "max_height": null,
            "align_content": null,
            "visibility": null,
            "align_self": null,
            "height": null,
            "min_height": null,
            "padding": null,
            "grid_auto_rows": null,
            "grid_gap": null,
            "max_width": null,
            "order": null,
            "_view_module_version": "1.2.0",
            "grid_template_areas": null,
            "object_position": null,
            "object_fit": null,
            "grid_auto_columns": null,
            "margin": null,
            "display": null,
            "left": null
          }
        },
        "428fc33decb1414781c8010c149c78c1": {
          "model_module": "@jupyter-widgets/controls",
          "model_name": "ButtonStyleModel",
          "state": {
            "_view_name": "StyleView",
            "_model_name": "ButtonStyleModel",
            "_view_module": "@jupyter-widgets/base",
            "_model_module_version": "1.5.0",
            "_view_count": null,
            "button_color": null,
            "font_weight": "",
            "_view_module_version": "1.2.0",
            "_model_module": "@jupyter-widgets/controls"
          }
        },
        "a4187812f79e47bbbfa9adbae0354127": {
          "model_module": "@jupyter-widgets/base",
          "model_name": "LayoutModel",
          "state": {
            "_view_name": "LayoutView",
            "grid_template_rows": null,
            "right": null,
            "justify_content": null,
            "_view_module": "@jupyter-widgets/base",
            "overflow": null,
            "_model_module_version": "1.2.0",
            "_view_count": null,
            "flex_flow": null,
            "width": null,
            "min_width": null,
            "border": null,
            "align_items": null,
            "bottom": null,
            "_model_module": "@jupyter-widgets/base",
            "top": null,
            "grid_column": null,
            "overflow_y": null,
            "overflow_x": null,
            "grid_auto_flow": null,
            "grid_area": null,
            "grid_template_columns": null,
            "flex": null,
            "_model_name": "LayoutModel",
            "justify_items": null,
            "grid_row": null,
            "max_height": null,
            "align_content": null,
            "visibility": null,
            "align_self": null,
            "height": null,
            "min_height": null,
            "padding": null,
            "grid_auto_rows": null,
            "grid_gap": null,
            "max_width": null,
            "order": null,
            "_view_module_version": "1.2.0",
            "grid_template_areas": null,
            "object_position": null,
            "object_fit": null,
            "grid_auto_columns": null,
            "margin": null,
            "display": null,
            "left": null
          }
        },
        "d89534be79314314877f542a39cf51bc": {
          "model_module": "@jupyter-widgets/controls",
          "model_name": "DescriptionStyleModel",
          "state": {
            "_view_name": "StyleView",
            "_model_name": "DescriptionStyleModel",
            "description_width": "",
            "_view_module": "@jupyter-widgets/base",
            "_model_module_version": "1.5.0",
            "_view_count": null,
            "_view_module_version": "1.2.0",
            "_model_module": "@jupyter-widgets/controls"
          }
        },
        "b448b5c73ab948d589029fe3f8331337": {
          "model_module": "@jupyter-widgets/base",
          "model_name": "LayoutModel",
          "state": {
            "_view_name": "LayoutView",
            "grid_template_rows": null,
            "right": null,
            "justify_content": null,
            "_view_module": "@jupyter-widgets/base",
            "overflow": null,
            "_model_module_version": "1.2.0",
            "_view_count": null,
            "flex_flow": null,
            "width": null,
            "min_width": null,
            "border": null,
            "align_items": null,
            "bottom": null,
            "_model_module": "@jupyter-widgets/base",
            "top": null,
            "grid_column": null,
            "overflow_y": null,
            "overflow_x": null,
            "grid_auto_flow": null,
            "grid_area": null,
            "grid_template_columns": null,
            "flex": null,
            "_model_name": "LayoutModel",
            "justify_items": null,
            "grid_row": null,
            "max_height": null,
            "align_content": null,
            "visibility": null,
            "align_self": null,
            "height": null,
            "min_height": null,
            "padding": null,
            "grid_auto_rows": null,
            "grid_gap": null,
            "max_width": null,
            "order": null,
            "_view_module_version": "1.2.0",
            "grid_template_areas": null,
            "object_position": null,
            "object_fit": null,
            "grid_auto_columns": null,
            "margin": null,
            "display": null,
            "left": null
          }
        },
        "ad202baefae0423eb0eaaec012aefcfa": {
          "model_module": "@jupyter-widgets/base",
          "model_name": "LayoutModel",
          "state": {
            "_view_name": "LayoutView",
            "grid_template_rows": null,
            "right": null,
            "justify_content": null,
            "_view_module": "@jupyter-widgets/base",
            "overflow": null,
            "_model_module_version": "1.2.0",
            "_view_count": null,
            "flex_flow": null,
            "width": null,
            "min_width": null,
            "border": null,
            "align_items": null,
            "bottom": null,
            "_model_module": "@jupyter-widgets/base",
            "top": null,
            "grid_column": null,
            "overflow_y": null,
            "overflow_x": null,
            "grid_auto_flow": null,
            "grid_area": null,
            "grid_template_columns": null,
            "flex": null,
            "_model_name": "LayoutModel",
            "justify_items": null,
            "grid_row": null,
            "max_height": null,
            "align_content": null,
            "visibility": null,
            "align_self": null,
            "height": null,
            "min_height": null,
            "padding": null,
            "grid_auto_rows": null,
            "grid_gap": null,
            "max_width": null,
            "order": null,
            "_view_module_version": "1.2.0",
            "grid_template_areas": null,
            "object_position": null,
            "object_fit": null,
            "grid_auto_columns": null,
            "margin": null,
            "display": null,
            "left": null
          }
        }
      }
    },
    "accelerator": "GPU"
  },
  "cells": [
    {
      "cell_type": "code",
      "metadata": {
        "id": "yKuxFD_HW9MT"
      },
      "source": [
        "from ipywidgets import *"
      ],
      "execution_count": 1,
      "outputs": []
    },
    {
      "cell_type": "code",
      "metadata": {
        "colab": {
          "base_uri": "https://localhost:8080/"
        },
        "id": "19GYgD74dMWi",
        "outputId": "d3e1fe4b-e31d-4025-a23c-21e05c4c81b3"
      },
      "source": [
        "#hide\n",
        "!pip install -Uqq fastbook\n",
        "import fastbook\n",
        "fastbook.setup_book()"
      ],
      "execution_count": 2,
      "outputs": [
        {
          "output_type": "stream",
          "text": [
            "\u001b[K     |████████████████████████████████| 727kB 6.4MB/s \n",
            "\u001b[K     |████████████████████████████████| 194kB 8.8MB/s \n",
            "\u001b[K     |████████████████████████████████| 1.2MB 12.7MB/s \n",
            "\u001b[K     |████████████████████████████████| 51kB 6.6MB/s \n",
            "\u001b[K     |████████████████████████████████| 61kB 7.8MB/s \n",
            "\u001b[K     |████████████████████████████████| 776.8MB 12kB/s \n",
            "\u001b[K     |████████████████████████████████| 12.8MB 244kB/s \n",
            "\u001b[K     |████████████████████████████████| 51kB 8.8MB/s \n",
            "\u001b[31mERROR: torchtext 0.9.1 has requirement torch==1.8.1, but you'll have torch 1.7.1 which is incompatible.\u001b[0m\n",
            "\u001b[?25hMounted at /content/gdrive\n"
          ],
          "name": "stdout"
        }
      ]
    },
    {
      "cell_type": "code",
      "metadata": {
        "colab": {
          "base_uri": "https://localhost:8080/",
          "height": 1000
        },
        "id": "2XiTQ56DVn_0",
        "outputId": "cfee9566-4f29-43b2-9c6a-35d7398cb4ff"
      },
      "source": [
        "!pip install voila\n",
        "!jupyter serverextension enable voila --sys-prefix"
      ],
      "execution_count": 3,
      "outputs": [
        {
          "output_type": "stream",
          "text": [
            "Collecting voila\n",
            "\u001b[?25l  Downloading https://files.pythonhosted.org/packages/ec/c6/99c98f5f545d8ef053c6b18263831001ee06c1b9b72f0b828a4a56b5dc5b/voila-0.2.9-py3-none-any.whl (1.6MB)\n",
            "\u001b[K     |████████████████████████████████| 1.6MB 6.6MB/s \n",
            "\u001b[?25hRequirement already satisfied: nbclient<0.6,>=0.4.0 in /usr/local/lib/python3.7/dist-packages (from voila) (0.5.3)\n",
            "Collecting jupyter-client<7,>=6.1.3\n",
            "\u001b[?25l  Downloading https://files.pythonhosted.org/packages/77/e8/c3cf72a32a697256608d5fa96360c431adec6e1c6709ba7f13f99ff5ee04/jupyter_client-6.1.12-py3-none-any.whl (112kB)\n",
            "\u001b[K     |████████████████████████████████| 122kB 20.8MB/s \n",
            "\u001b[?25hCollecting nbconvert<7,>=6.0.0\n",
            "\u001b[?25l  Downloading https://files.pythonhosted.org/packages/13/2f/acbe7006548f3914456ee47f97a2033b1b2f3daf921b12ac94105d87c163/nbconvert-6.0.7-py3-none-any.whl (552kB)\n",
            "\u001b[K     |████████████████████████████████| 552kB 19.9MB/s \n",
            "\u001b[?25hCollecting jupyter-server<2.0.0,>=0.3.0\n",
            "\u001b[?25l  Downloading https://files.pythonhosted.org/packages/ae/af/9181eb8e3759d04f591e4640c53fa276a5b630ad0c85e3b49fbd7c70579d/jupyter_server-1.6.4-py3-none-any.whl (377kB)\n",
            "\u001b[K     |████████████████████████████████| 378kB 25.5MB/s \n",
            "\u001b[?25hRequirement already satisfied: nbformat>=5.0 in /usr/local/lib/python3.7/dist-packages (from nbclient<0.6,>=0.4.0->voila) (5.1.3)\n",
            "Requirement already satisfied: nest-asyncio in /usr/local/lib/python3.7/dist-packages (from nbclient<0.6,>=0.4.0->voila) (1.5.1)\n",
            "Requirement already satisfied: async-generator in /usr/local/lib/python3.7/dist-packages (from nbclient<0.6,>=0.4.0->voila) (1.10)\n",
            "Requirement already satisfied: traitlets>=4.2 in /usr/local/lib/python3.7/dist-packages (from nbclient<0.6,>=0.4.0->voila) (5.0.5)\n",
            "Requirement already satisfied: pyzmq>=13 in /usr/local/lib/python3.7/dist-packages (from jupyter-client<7,>=6.1.3->voila) (22.0.3)\n",
            "Requirement already satisfied: tornado>=4.1 in /usr/local/lib/python3.7/dist-packages (from jupyter-client<7,>=6.1.3->voila) (5.1.1)\n",
            "Requirement already satisfied: jupyter-core>=4.6.0 in /usr/local/lib/python3.7/dist-packages (from jupyter-client<7,>=6.1.3->voila) (4.7.1)\n",
            "Requirement already satisfied: python-dateutil>=2.1 in /usr/local/lib/python3.7/dist-packages (from jupyter-client<7,>=6.1.3->voila) (2.8.1)\n",
            "Requirement already satisfied: mistune<2,>=0.8.1 in /usr/local/lib/python3.7/dist-packages (from nbconvert<7,>=6.0.0->voila) (0.8.4)\n",
            "Requirement already satisfied: defusedxml in /usr/local/lib/python3.7/dist-packages (from nbconvert<7,>=6.0.0->voila) (0.7.1)\n",
            "Requirement already satisfied: jinja2>=2.4 in /usr/local/lib/python3.7/dist-packages (from nbconvert<7,>=6.0.0->voila) (2.11.3)\n",
            "Requirement already satisfied: jupyterlab-pygments in /usr/local/lib/python3.7/dist-packages (from nbconvert<7,>=6.0.0->voila) (0.1.2)\n",
            "Requirement already satisfied: pandocfilters>=1.4.1 in /usr/local/lib/python3.7/dist-packages (from nbconvert<7,>=6.0.0->voila) (1.4.3)\n",
            "Requirement already satisfied: entrypoints>=0.2.2 in /usr/local/lib/python3.7/dist-packages (from nbconvert<7,>=6.0.0->voila) (0.3)\n",
            "Requirement already satisfied: testpath in /usr/local/lib/python3.7/dist-packages (from nbconvert<7,>=6.0.0->voila) (0.4.4)\n",
            "Requirement already satisfied: bleach in /usr/local/lib/python3.7/dist-packages (from nbconvert<7,>=6.0.0->voila) (3.3.0)\n",
            "Requirement already satisfied: pygments>=2.4.1 in /usr/local/lib/python3.7/dist-packages (from nbconvert<7,>=6.0.0->voila) (2.6.1)\n",
            "Requirement already satisfied: terminado>=0.8.3 in /usr/local/lib/python3.7/dist-packages (from jupyter-server<2.0.0,>=0.3.0->voila) (0.9.4)\n",
            "Requirement already satisfied: Send2Trash in /usr/local/lib/python3.7/dist-packages (from jupyter-server<2.0.0,>=0.3.0->voila) (1.5.0)\n",
            "Requirement already satisfied: argon2-cffi in /usr/local/lib/python3.7/dist-packages (from jupyter-server<2.0.0,>=0.3.0->voila) (20.1.0)\n",
            "Requirement already satisfied: ipython-genutils in /usr/local/lib/python3.7/dist-packages (from jupyter-server<2.0.0,>=0.3.0->voila) (0.2.0)\n",
            "Requirement already satisfied: prometheus-client in /usr/local/lib/python3.7/dist-packages (from jupyter-server<2.0.0,>=0.3.0->voila) (0.10.1)\n",
            "Collecting anyio<3,>=2.0.2\n",
            "\u001b[?25l  Downloading https://files.pythonhosted.org/packages/49/c3/b83a3c02c7d6f66932e9a72621d7f207cbfd2bd72b4c8931567ee386fb55/anyio-2.2.0-py3-none-any.whl (65kB)\n",
            "\u001b[K     |████████████████████████████████| 71kB 8.1MB/s \n",
            "\u001b[?25hCollecting jupyter-packaging~=0.9\n",
            "  Downloading https://files.pythonhosted.org/packages/21/34/ecb37fca8e8ec84b63e1fca0d9ed22a311d8781db95787c04355647b3bfb/jupyter_packaging-0.9.2-py2.py3-none-any.whl\n",
            "Requirement already satisfied: jsonschema!=2.5.0,>=2.4 in /usr/local/lib/python3.7/dist-packages (from nbformat>=5.0->nbclient<0.6,>=0.4.0->voila) (2.6.0)\n",
            "Requirement already satisfied: six>=1.5 in /usr/local/lib/python3.7/dist-packages (from python-dateutil>=2.1->jupyter-client<7,>=6.1.3->voila) (1.15.0)\n",
            "Requirement already satisfied: MarkupSafe>=0.23 in /usr/local/lib/python3.7/dist-packages (from jinja2>=2.4->nbconvert<7,>=6.0.0->voila) (1.1.1)\n",
            "Requirement already satisfied: packaging in /usr/local/lib/python3.7/dist-packages (from bleach->nbconvert<7,>=6.0.0->voila) (20.9)\n",
            "Requirement already satisfied: webencodings in /usr/local/lib/python3.7/dist-packages (from bleach->nbconvert<7,>=6.0.0->voila) (0.5.1)\n",
            "Requirement already satisfied: ptyprocess; os_name != \"nt\" in /usr/local/lib/python3.7/dist-packages (from terminado>=0.8.3->jupyter-server<2.0.0,>=0.3.0->voila) (0.7.0)\n",
            "Requirement already satisfied: cffi>=1.0.0 in /usr/local/lib/python3.7/dist-packages (from argon2-cffi->jupyter-server<2.0.0,>=0.3.0->voila) (1.14.5)\n",
            "Collecting sniffio>=1.1\n",
            "  Downloading https://files.pythonhosted.org/packages/52/b0/7b2e028b63d092804b6794595871f936aafa5e9322dcaaad50ebf67445b3/sniffio-1.2.0-py3-none-any.whl\n",
            "Requirement already satisfied: idna>=2.8 in /usr/local/lib/python3.7/dist-packages (from anyio<3,>=2.0.2->jupyter-server<2.0.0,>=0.3.0->voila) (2.10)\n",
            "Requirement already satisfied: typing-extensions; python_version < \"3.8\" in /usr/local/lib/python3.7/dist-packages (from anyio<3,>=2.0.2->jupyter-server<2.0.0,>=0.3.0->voila) (3.7.4.3)\n",
            "Collecting tomlkit\n",
            "  Downloading https://files.pythonhosted.org/packages/bc/01/a0ee34fe37dd54f795e8f8a820af57c9a94d7358276acf6cdc21ae8d9533/tomlkit-0.7.0-py2.py3-none-any.whl\n",
            "Requirement already satisfied: setuptools>=46.4.0 in /usr/local/lib/python3.7/dist-packages (from jupyter-packaging~=0.9->jupyter-server<2.0.0,>=0.3.0->voila) (56.0.0)\n",
            "Collecting deprecation\n",
            "  Downloading https://files.pythonhosted.org/packages/02/c3/253a89ee03fc9b9682f1541728eb66db7db22148cd94f89ab22528cd1e1b/deprecation-2.1.0-py2.py3-none-any.whl\n",
            "Requirement already satisfied: wheel in /usr/local/lib/python3.7/dist-packages (from jupyter-packaging~=0.9->jupyter-server<2.0.0,>=0.3.0->voila) (0.36.2)\n",
            "Requirement already satisfied: pyparsing>=2.0.2 in /usr/local/lib/python3.7/dist-packages (from packaging->bleach->nbconvert<7,>=6.0.0->voila) (2.4.7)\n",
            "Requirement already satisfied: pycparser in /usr/local/lib/python3.7/dist-packages (from cffi>=1.0.0->argon2-cffi->jupyter-server<2.0.0,>=0.3.0->voila) (2.20)\n",
            "\u001b[31mERROR: nbdev 1.1.14 has requirement nbconvert<6, but you'll have nbconvert 6.0.7 which is incompatible.\u001b[0m\n",
            "\u001b[31mERROR: jupyter-server 1.6.4 has requirement tornado>=6.1.0, but you'll have tornado 5.1.1 which is incompatible.\u001b[0m\n",
            "Installing collected packages: jupyter-client, nbconvert, sniffio, anyio, tomlkit, deprecation, jupyter-packaging, jupyter-server, voila\n",
            "  Found existing installation: jupyter-client 5.3.5\n",
            "    Uninstalling jupyter-client-5.3.5:\n",
            "      Successfully uninstalled jupyter-client-5.3.5\n",
            "  Found existing installation: nbconvert 5.6.1\n",
            "    Uninstalling nbconvert-5.6.1:\n",
            "      Successfully uninstalled nbconvert-5.6.1\n",
            "Successfully installed anyio-2.2.0 deprecation-2.1.0 jupyter-client-6.1.12 jupyter-packaging-0.9.2 jupyter-server-1.6.4 nbconvert-6.0.7 sniffio-1.2.0 tomlkit-0.7.0 voila-0.2.9\n"
          ],
          "name": "stdout"
        },
        {
          "output_type": "display_data",
          "data": {
            "application/vnd.colab-display-data+json": {
              "pip_warning": {
                "packages": [
                  "jupyter_client",
                  "nbconvert"
                ]
              }
            }
          },
          "metadata": {
            "tags": []
          }
        },
        {
          "output_type": "stream",
          "text": [
            "Enabling: voila\n",
            "- Writing config: /usr/etc/jupyter\n",
            "    - Validating...\n",
            "Error loading server extension voila\n",
            "     \u001b[31m X\u001b[0m is voila importable?\n"
          ],
          "name": "stdout"
        }
      ]
    },
    {
      "cell_type": "code",
      "metadata": {
        "id": "et2L2pE5T1-y"
      },
      "source": [
        "#hide\n",
        "from fastbook import *\n"
      ],
      "execution_count": 4,
      "outputs": []
    },
    {
      "cell_type": "code",
      "metadata": {
        "colab": {
          "base_uri": "https://localhost:8080/",
          "height": 35
        },
        "id": "RwEQacI2nV6b",
        "outputId": "e0c22ac7-629f-461d-e8e4-4f1b257fb489"
      },
      "source": [
        "import fastai; fastai.__version__"
      ],
      "execution_count": 14,
      "outputs": [
        {
          "output_type": "execute_result",
          "data": {
            "application/vnd.google.colaboratory.intrinsic+json": {
              "type": "string"
            },
            "text/plain": [
              "'1.0.61'"
            ]
          },
          "metadata": {
            "tags": []
          },
          "execution_count": 14
        }
      ]
    },
    {
      "cell_type": "code",
      "metadata": {
        "colab": {
          "base_uri": "https://localhost:8080/"
        },
        "id": "WmaMu2rlawaQ",
        "outputId": "11c038e0-56de-42af-86e1-64c8dac7e6a1"
      },
      "source": [
        "!pip install fastai2"
      ],
      "execution_count": 6,
      "outputs": [
        {
          "output_type": "stream",
          "text": [
            "Collecting fastai2\n",
            "\u001b[?25l  Downloading https://files.pythonhosted.org/packages/cc/50/2f37212be57b7ee3e9c947336f75a66724468b21a3ca68734eaa82e7ebf3/fastai2-0.0.30-py3-none-any.whl (179kB)\n",
            "\r\u001b[K     |█▉                              | 10kB 24.0MB/s eta 0:00:01\r\u001b[K     |███▋                            | 20kB 11.2MB/s eta 0:00:01\r\u001b[K     |█████▌                          | 30kB 9.0MB/s eta 0:00:01\r\u001b[K     |███████▎                        | 40kB 8.1MB/s eta 0:00:01\r\u001b[K     |█████████▏                      | 51kB 4.9MB/s eta 0:00:01\r\u001b[K     |███████████                     | 61kB 5.4MB/s eta 0:00:01\r\u001b[K     |████████████▉                   | 71kB 5.8MB/s eta 0:00:01\r\u001b[K     |██████████████▋                 | 81kB 6.0MB/s eta 0:00:01\r\u001b[K     |████████████████▍               | 92kB 5.8MB/s eta 0:00:01\r\u001b[K     |██████████████████▎             | 102kB 6.3MB/s eta 0:00:01\r\u001b[K     |████████████████████            | 112kB 6.3MB/s eta 0:00:01\r\u001b[K     |██████████████████████          | 122kB 6.3MB/s eta 0:00:01\r\u001b[K     |███████████████████████▊        | 133kB 6.3MB/s eta 0:00:01\r\u001b[K     |█████████████████████████▋      | 143kB 6.3MB/s eta 0:00:01\r\u001b[K     |███████████████████████████▍    | 153kB 6.3MB/s eta 0:00:01\r\u001b[K     |█████████████████████████████▎  | 163kB 6.3MB/s eta 0:00:01\r\u001b[K     |███████████████████████████████ | 174kB 6.3MB/s eta 0:00:01\r\u001b[K     |████████████████████████████████| 184kB 6.3MB/s \n",
            "\u001b[?25hRequirement already satisfied: matplotlib in /usr/local/lib/python3.7/dist-packages (from fastai2) (3.2.2)\n",
            "Requirement already satisfied: torchvision>=0.7 in /usr/local/lib/python3.7/dist-packages (from fastai2) (0.8.2)\n",
            "Requirement already satisfied: pyyaml in /usr/local/lib/python3.7/dist-packages (from fastai2) (3.13)\n",
            "Requirement already satisfied: requests in /usr/local/lib/python3.7/dist-packages (from fastai2) (2.23.0)\n",
            "Requirement already satisfied: pillow in /usr/local/lib/python3.7/dist-packages (from fastai2) (7.1.2)\n",
            "Requirement already satisfied: fastprogress>=0.2.4 in /usr/local/lib/python3.7/dist-packages (from fastai2) (1.0.0)\n",
            "Requirement already satisfied: scipy in /usr/local/lib/python3.7/dist-packages (from fastai2) (1.4.1)\n",
            "Requirement already satisfied: pip in /usr/local/lib/python3.7/dist-packages (from fastai2) (19.3.1)\n",
            "Requirement already satisfied: torch>=1.6.0 in /usr/local/lib/python3.7/dist-packages (from fastai2) (1.7.1)\n",
            "Requirement already satisfied: spacy in /usr/local/lib/python3.7/dist-packages (from fastai2) (2.2.4)\n",
            "Requirement already satisfied: pandas in /usr/local/lib/python3.7/dist-packages (from fastai2) (1.1.5)\n",
            "Requirement already satisfied: fastcore>=0.1.34 in /usr/local/lib/python3.7/dist-packages (from fastai2) (1.3.19)\n",
            "Requirement already satisfied: packaging in /usr/local/lib/python3.7/dist-packages (from fastai2) (20.9)\n",
            "Requirement already satisfied: scikit-learn in /usr/local/lib/python3.7/dist-packages (from fastai2) (0.22.2.post1)\n",
            "Requirement already satisfied: cycler>=0.10 in /usr/local/lib/python3.7/dist-packages (from matplotlib->fastai2) (0.10.0)\n",
            "Requirement already satisfied: pyparsing!=2.0.4,!=2.1.2,!=2.1.6,>=2.0.1 in /usr/local/lib/python3.7/dist-packages (from matplotlib->fastai2) (2.4.7)\n",
            "Requirement already satisfied: kiwisolver>=1.0.1 in /usr/local/lib/python3.7/dist-packages (from matplotlib->fastai2) (1.3.1)\n",
            "Requirement already satisfied: python-dateutil>=2.1 in /usr/local/lib/python3.7/dist-packages (from matplotlib->fastai2) (2.8.1)\n",
            "Requirement already satisfied: numpy>=1.11 in /usr/local/lib/python3.7/dist-packages (from matplotlib->fastai2) (1.19.5)\n",
            "Requirement already satisfied: chardet<4,>=3.0.2 in /usr/local/lib/python3.7/dist-packages (from requests->fastai2) (3.0.4)\n",
            "Requirement already satisfied: certifi>=2017.4.17 in /usr/local/lib/python3.7/dist-packages (from requests->fastai2) (2020.12.5)\n",
            "Requirement already satisfied: urllib3!=1.25.0,!=1.25.1,<1.26,>=1.21.1 in /usr/local/lib/python3.7/dist-packages (from requests->fastai2) (1.24.3)\n",
            "Requirement already satisfied: idna<3,>=2.5 in /usr/local/lib/python3.7/dist-packages (from requests->fastai2) (2.10)\n",
            "Requirement already satisfied: typing-extensions in /usr/local/lib/python3.7/dist-packages (from torch>=1.6.0->fastai2) (3.7.4.3)\n",
            "Requirement already satisfied: preshed<3.1.0,>=3.0.2 in /usr/local/lib/python3.7/dist-packages (from spacy->fastai2) (3.0.5)\n",
            "Requirement already satisfied: catalogue<1.1.0,>=0.0.7 in /usr/local/lib/python3.7/dist-packages (from spacy->fastai2) (1.0.0)\n",
            "Requirement already satisfied: plac<1.2.0,>=0.9.6 in /usr/local/lib/python3.7/dist-packages (from spacy->fastai2) (1.1.3)\n",
            "Requirement already satisfied: cymem<2.1.0,>=2.0.2 in /usr/local/lib/python3.7/dist-packages (from spacy->fastai2) (2.0.5)\n",
            "Requirement already satisfied: thinc==7.4.0 in /usr/local/lib/python3.7/dist-packages (from spacy->fastai2) (7.4.0)\n",
            "Requirement already satisfied: setuptools in /usr/local/lib/python3.7/dist-packages (from spacy->fastai2) (56.0.0)\n",
            "Requirement already satisfied: tqdm<5.0.0,>=4.38.0 in /usr/local/lib/python3.7/dist-packages (from spacy->fastai2) (4.41.1)\n",
            "Requirement already satisfied: srsly<1.1.0,>=1.0.2 in /usr/local/lib/python3.7/dist-packages (from spacy->fastai2) (1.0.5)\n",
            "Requirement already satisfied: blis<0.5.0,>=0.4.0 in /usr/local/lib/python3.7/dist-packages (from spacy->fastai2) (0.4.1)\n",
            "Requirement already satisfied: wasabi<1.1.0,>=0.4.0 in /usr/local/lib/python3.7/dist-packages (from spacy->fastai2) (0.8.2)\n",
            "Requirement already satisfied: murmurhash<1.1.0,>=0.28.0 in /usr/local/lib/python3.7/dist-packages (from spacy->fastai2) (1.0.5)\n",
            "Requirement already satisfied: pytz>=2017.2 in /usr/local/lib/python3.7/dist-packages (from pandas->fastai2) (2018.9)\n",
            "Requirement already satisfied: joblib>=0.11 in /usr/local/lib/python3.7/dist-packages (from scikit-learn->fastai2) (1.0.1)\n",
            "Requirement already satisfied: six in /usr/local/lib/python3.7/dist-packages (from cycler>=0.10->matplotlib->fastai2) (1.15.0)\n",
            "Requirement already satisfied: importlib-metadata>=0.20; python_version < \"3.8\" in /usr/local/lib/python3.7/dist-packages (from catalogue<1.1.0,>=0.0.7->spacy->fastai2) (3.10.1)\n",
            "Requirement already satisfied: zipp>=0.5 in /usr/local/lib/python3.7/dist-packages (from importlib-metadata>=0.20; python_version < \"3.8\"->catalogue<1.1.0,>=0.0.7->spacy->fastai2) (3.4.1)\n",
            "Installing collected packages: fastai2\n",
            "Successfully installed fastai2-0.0.30\n"
          ],
          "name": "stdout"
        }
      ]
    },
    {
      "cell_type": "code",
      "metadata": {
        "id": "zQY0ir2Aa-J8"
      },
      "source": [
        "#from fastai2.vision.all import *\n",
        "#from fastai2.vision.widgets import *\n",
        "from fastai2 import *"
      ],
      "execution_count": 7,
      "outputs": []
    },
    {
      "cell_type": "code",
      "metadata": {
        "id": "TybSHaYUTNOj"
      },
      "source": [
        "path = Path()\n",
        "path.ls(file_exts='.pkl')\n",
        "learn_inf= load_learner(path/'/content/gdrive/MyDrive/Colab Notebooks/export.pkl', cpu=True)\n"
      ],
      "execution_count": 9,
      "outputs": []
    },
    {
      "cell_type": "code",
      "metadata": {
        "id": "Q7M4HQXicULZ"
      },
      "source": [
        "btn_upload = widgets.FileUpload()\n",
        "out_pl = widgets.Output()\n",
        "lbl_pred= widgets.Label()"
      ],
      "execution_count": 10,
      "outputs": []
    },
    {
      "cell_type": "code",
      "metadata": {
        "id": "8SVpP60Vc7oQ"
      },
      "source": [
        "def on_click_classify(change):\n",
        "  img= PILImage.create(btn_upload.data[-1])\n",
        "  out_pl.clear_output()\n",
        "  with out_pl: display(img.to_thumb(128,128))\n",
        "  pred,pred_idx,probs= learn_inf.predict(img)\n",
        "  lbl_pred.value= f'Prediction: {pred}; Probability: {probs[pred_idx]:.04f}'\n"
      ],
      "execution_count": 11,
      "outputs": []
    },
    {
      "cell_type": "code",
      "metadata": {
        "id": "lUDaNExqdIYJ"
      },
      "source": [
        "btn_upload.observe(on_click_classify, names=['data'])"
      ],
      "execution_count": 12,
      "outputs": []
    },
    {
      "cell_type": "code",
      "metadata": {
        "colab": {
          "base_uri": "https://localhost:8080/",
          "height": 195,
          "referenced_widgets": [
            "e444ccb854014bfe885176ccf4045b20",
            "143e8234dd3a4c81b718e35299646947",
            "dfd7c11d1658493db5372e7d491df1a8",
            "ca724337a22a40aeaae0b1ca806ccde5",
            "09a94f90aa7b4a1c809e73a2948b7f05",
            "1c22218e26e44caab50665def315a14d",
            "5a65712d8cb0415eb42aa61bd2ea41e4",
            "efde40e0575c48ed88dcaaeeb8a38945",
            "428fc33decb1414781c8010c149c78c1",
            "a4187812f79e47bbbfa9adbae0354127",
            "d89534be79314314877f542a39cf51bc",
            "b448b5c73ab948d589029fe3f8331337",
            "ad202baefae0423eb0eaaec012aefcfa"
          ]
        },
        "id": "TeC1_XWLdSB2",
        "outputId": "6c711e24-3af8-485d-c130-fe22d43ff99e"
      },
      "source": [
        "display(VBox([widgets.Label('Select your Picture!'), btn_upload, out_pl, lbl_pred]))"
      ],
      "execution_count": 13,
      "outputs": [
        {
          "output_type": "display_data",
          "data": {
            "application/vnd.jupyter.widget-view+json": {
              "model_id": "e444ccb854014bfe885176ccf4045b20",
              "version_minor": 0,
              "version_major": 2
            },
            "text/plain": [
              "VBox(children=(Label(value='Select your Picture!'), FileUpload(value={}, description='Upload'), Output(), Labe…"
            ]
          },
          "metadata": {
            "tags": []
          }
        },
        {
          "output_type": "display_data",
          "data": {
            "text/html": [
              ""
            ],
            "text/plain": [
              "<IPython.core.display.HTML object>"
            ]
          },
          "metadata": {
            "tags": []
          }
        }
      ]
    },
    {
      "cell_type": "code",
      "metadata": {
        "id": "r2bIDSLkdkm9"
      },
      "source": [
        ""
      ],
      "execution_count": null,
      "outputs": []
    }
  ]
}